{
 "cells": [
  {
   "cell_type": "raw",
   "id": "521dd196",
   "metadata": {},
   "source": [
    "---\n",
    "title: \"Yan_Shi_blogpost3\"\n",
    "author: \"Yan Shi\"\n",
    "toc: true\n",
    "number-sections: true\n",
    "highlight-style: pygments\n",
    "format:\n",
    "  html: \n",
    "    code-fold: true\n",
    "    html-math-method: katex\n",
    "jupyter: python3\n",
    "---"
   ]
  },
  {
   "cell_type": "code",
   "execution_count": 28,
   "id": "b3a3790c",
   "metadata": {},
   "outputs": [],
   "source": [
    "import nltk\n",
    "import re\n",
    "from string import digits\n",
    "import pandas as pd\n",
    "import seaborn as sns\n",
    "import matplotlib.pyplot as plt"
   ]
  },
  {
   "cell_type": "markdown",
   "id": "b2fd9326",
   "metadata": {},
   "source": [
    "Research question: how does lock down change people's perception of remote working\n",
    "dataset: twitter dataset with key words: #remotework, #workfromhome, #wfh"
   ]
  },
  {
   "cell_type": "code",
   "execution_count": 24,
   "id": "10e3ffdd",
   "metadata": {},
   "outputs": [],
   "source": [
    "# load remote work twitter dataset\n",
    "df = pd.read_csv('cleaned_twitter_remotework.csv').dropna().reset_index()"
   ]
  },
  {
   "cell_type": "markdown",
   "id": "585bdbae",
   "metadata": {},
   "source": [
    "Looking at stay at home order across different states, most of the enforced order were initialized during 2020, 03 to 2020, 05. I wana see how people perceive remote work befor lockdown, during lockdown and after lockdown, whether there are any differences. Following are the topic model for each period"
   ]
  },
  {
   "cell_type": "code",
   "execution_count": 25,
   "id": "08e8c7d3",
   "metadata": {},
   "outputs": [],
   "source": [
    "# split dataset with three time period: pre lockdown, during lockdown and after lockdown\n",
    "from pandas import Timestamp\n",
    "df['created_at']= df['created_at'].apply(lambda x: datetime.datetime.strptime(x,\"%Y-%m-%d %H:%M:%S%z\"))\n",
    "df['date'] = df['created_at'].apply(lambda x: x.date())\n",
    "df['year'] = df['created_at'].apply(lambda x: x.year)\n",
    "df['month'] = df['created_at'].apply(lambda x: x.month)\n",
    "df_pre_lockdown = df[df['created_at'] < Timestamp('2020-3-01 00:00:00+0000', tz='UTC')].reset_index(drop = True)\n",
    "df_du_lockdown = df[(df['created_at'] > Timestamp('2020-3-01 00:00:00+0000', tz='UTC'))&(df['created_at'] < Timestamp('2020-6-01 00:00:00+0000', tz='UTC'))].reset_index(drop = True)\n",
    "df_after_lockdown =df[df['created_at'] > Timestamp('2020-6-01 00:00:00+0000', tz='UTC')].reset_index(drop = True)"
   ]
  },
  {
   "cell_type": "markdown",
   "id": "e1320030",
   "metadata": {},
   "source": [
    "As mentioned by Professor Song, each tweet is too short to cover multiple topics, so I merged tweets by date."
   ]
  },
  {
   "cell_type": "code",
   "execution_count": 34,
   "id": "b47e711f",
   "metadata": {},
   "outputs": [
    {
     "name": "stderr",
     "output_type": "stream",
     "text": [
      "/Users/yanshi/opt/anaconda3/lib/python3.9/site-packages/pyLDAvis/_prepare.py:246: FutureWarning: In a future version of pandas all arguments of DataFrame.drop except for the argument 'labels' will be keyword-only\n",
      "  default_term_info = default_term_info.sort_values(\n",
      "/Users/yanshi/opt/anaconda3/lib/python3.9/site-packages/past/builtins/misc.py:45: DeprecationWarning: the imp module is deprecated in favour of importlib; see the module's documentation for alternative uses\n",
      "  from imp import reload\n",
      "/Users/yanshi/opt/anaconda3/lib/python3.9/site-packages/past/builtins/misc.py:45: DeprecationWarning: the imp module is deprecated in favour of importlib; see the module's documentation for alternative uses\n",
      "  from imp import reload\n",
      "/Users/yanshi/opt/anaconda3/lib/python3.9/site-packages/past/builtins/misc.py:45: DeprecationWarning: the imp module is deprecated in favour of importlib; see the module's documentation for alternative uses\n",
      "  from imp import reload\n",
      "/Users/yanshi/opt/anaconda3/lib/python3.9/site-packages/past/builtins/misc.py:45: DeprecationWarning: the imp module is deprecated in favour of importlib; see the module's documentation for alternative uses\n",
      "  from imp import reload\n",
      "/Users/yanshi/opt/anaconda3/lib/python3.9/site-packages/past/builtins/misc.py:45: DeprecationWarning: the imp module is deprecated in favour of importlib; see the module's documentation for alternative uses\n",
      "  from imp import reload\n",
      "/Users/yanshi/opt/anaconda3/lib/python3.9/site-packages/past/builtins/misc.py:45: DeprecationWarning: the imp module is deprecated in favour of importlib; see the module's documentation for alternative uses\n",
      "  from imp import reload\n",
      "/Users/yanshi/opt/anaconda3/lib/python3.9/site-packages/past/builtins/misc.py:45: DeprecationWarning: the imp module is deprecated in favour of importlib; see the module's documentation for alternative uses\n",
      "  from imp import reload\n",
      "/Users/yanshi/opt/anaconda3/lib/python3.9/site-packages/past/builtins/misc.py:45: DeprecationWarning: the imp module is deprecated in favour of importlib; see the module's documentation for alternative uses\n",
      "  from imp import reload\n"
     ]
    },
    {
     "data": {
      "text/html": [
       "\n",
       "<link rel=\"stylesheet\" type=\"text/css\" href=\"https://cdn.jsdelivr.net/gh/bmabey/pyLDAvis@3.3.1/pyLDAvis/js/ldavis.v1.0.0.css\">\n",
       "\n",
       "\n",
       "<div id=\"ldavis_el142721404438787152807753571094\"></div>\n",
       "<script type=\"text/javascript\">\n",
       "\n",
       "var ldavis_el142721404438787152807753571094_data = {\"mdsDat\": {\"x\": [-0.005068214879296931, 0.005068214879296931], \"y\": [-0.0894437405411923, 0.0894437405411923], \"topics\": [1, 2], \"cluster\": [1, 1], \"Freq\": [70.9009439545359, 29.099056045464096]}, \"tinfo\": {\"Term\": [\"affiliate\", \"business\", \"start\", \"free\", \"marketing\", \"online\", \"register\", \"money\", \"sfi\", \"tripleclicks\", \"changing\", \"make\", \"training\", \"life\", \"million\", \"change\", \"karatbars\", \"funnel\", \"gold\", \"per\", \"teach\", \"link\", \"enterprise\", \"weird\", \"minute\", \"knock\", \"marketer\", \"seating\", \"possible\", \"making\", \"wisdom\", \"thecbdwarrior\", \"cbdbusiness\", \"dailywisdom\", \"cbdmovement\", \"florida\", \"snow\", \"islandlife\", \"dogmom\", \"wealth\", \"keweenaw\", \"businesswoman\", \"winter\", \"cocoa\", \"cbdcoffee\", \"smallbiz\", \"real\", \"career\", \"employee\", \"idea\", \"lovelife\", \"lifestyle\", \"feel\", \"stay\", \"virtualoffice\", \"businessgrowth\", \"lot\", \"futureofwork\", \"top\", \"snowday\", \"nyc\", \"remotely\", \"remote\", \"work\", \"motivation\", \"smallbusiness\", \"coffee\", \"startup\", \"team\", \"time\", \"mindset\", \"get\", \"office\", \"working\", \"job\", \"home\", \"today\", \"amp\", \"new\", \"like\", \"entrepreneur\", \"bos\", \"prosperity\", \"accountability\", \"looking\", \"day\", \"coworking\", \"need\", \"cbd\", \"plantbased\", \"love\", \"business\", \"great\", \"one\", \"life\", \"affiliate\", \"sfi\", \"tripleclicks\", \"register\", \"funnel\", \"per\", \"seating\", \"possible\", \"ethically\", \"niche\", \"reveals\", \"profitable\", \"cashing\", \"gateway\", \"generating\", \"method\", \"referring\", \"marketer\", \"knock\", \"teach\", \"karatbars\", \"weird\", \"enterprise\", \"associate\", \"storytime\", \"million\", \"risk\", \"earning\", \"lashelltaughtme\", \"train\", \"boost\", \"launch\", \"webinar\", \"start\", \"changing\", \"online\", \"free\", \"training\", \"marketing\", \"business\", \"gold\", \"money\", \"make\", \"life\", \"change\", \"minute\", \"link\", \"making\", \"one\", \"opportunity\", \"entrepreneur\", \"paid\", \"day\", \"people\", \"love\", \"use\", \"world\", \"work\", \"great\", \"friend\", \"family\"], \"Freq\": [186.0, 349.0, 137.0, 127.0, 108.0, 89.0, 56.0, 133.0, 51.0, 51.0, 62.0, 130.0, 59.0, 124.0, 33.0, 48.0, 32.0, 30.0, 35.0, 30.0, 30.0, 51.0, 29.0, 28.0, 33.0, 27.0, 27.0, 27.0, 27.0, 39.0, 60.91184531626974, 49.11792888099035, 48.26618287426691, 40.20511462047822, 38.98218123655683, 38.0454993137643, 33.98016646349382, 30.67795602675737, 31.1176279837449, 29.157541071123873, 27.948952631858248, 29.510522780208372, 32.127666635790995, 25.73731004874934, 25.268882564184395, 25.37424391517722, 26.437903063345054, 24.647620852817536, 24.05995250758036, 22.35912630279611, 22.157631744283893, 29.806455885556854, 42.23793768238435, 24.057732740770067, 19.06680934286467, 19.510237598795957, 24.637937716819142, 22.821594131173473, 18.139280974607058, 17.037796283938032, 20.09248332820288, 40.04620437874463, 150.8028537489766, 372.14555266926243, 60.9079368558914, 40.96550111174741, 77.54388970890064, 55.366366586492795, 70.69760375983209, 123.70774754835045, 48.42372963020439, 127.80852804576217, 140.4580004907445, 155.60831473481483, 100.53710552870992, 182.53551825127965, 139.47302073848286, 128.23471133910815, 115.61921564739947, 85.40170907234318, 231.30103826623332, 98.65946326161148, 67.26978256707399, 80.43962324984756, 62.11618815315493, 172.98603369648163, 59.47558458462966, 59.06780984130992, 63.77744492605544, 64.55695900471815, 87.1238244519592, 149.171635433396, 73.03788242630895, 65.9393128187126, 59.30643477341634, 186.25275847954944, 51.27975579978792, 51.27966763527792, 56.07336306734774, 30.169939405921724, 29.80043459744881, 26.921902530016453, 26.920521286026375, 26.472322305331616, 26.472322305331616, 26.472322305331616, 25.852126610688188, 25.85204824223485, 25.851930689554845, 25.851930689554845, 25.851930689554845, 25.851930689554845, 27.121947803217505, 27.260003629828464, 29.909616547033174, 31.3268292081773, 28.07381348647092, 28.535827356080613, 26.767212999184572, 10.294893913829569, 32.519672987415696, 26.289912383145705, 25.845222839751973, 8.27025533016126, 21.50375256766713, 14.644674915489453, 27.33290098551749, 27.005090643234382, 115.40296475904537, 53.87963903532155, 72.54027472942245, 94.32940357090452, 49.88156952970568, 80.51742408480482, 200.32930006806043, 31.987110366702943, 79.1590636831031, 71.44335638608352, 64.72649910910745, 37.05515171278043, 29.643967082331834, 35.86971375238244, 30.75435010555984, 45.4929116526549, 40.932151754046274, 59.665312553682845, 30.399664281810246, 52.37500881349343, 37.82281969350617, 38.85809879928086, 30.706844128752216, 31.545504132145215, 38.29330960114716, 33.30711675753837, 31.394627716371048, 31.33821712405293], \"Total\": [186.0, 349.0, 137.0, 127.0, 108.0, 89.0, 56.0, 133.0, 51.0, 51.0, 62.0, 130.0, 59.0, 124.0, 33.0, 48.0, 32.0, 30.0, 35.0, 30.0, 30.0, 51.0, 29.0, 28.0, 33.0, 27.0, 27.0, 27.0, 27.0, 39.0, 61.33840335368448, 49.54531671328332, 48.6935841761378, 40.63167514517297, 39.4125522359659, 38.49595372170915, 34.44147023379268, 31.105127197828274, 31.553068212884163, 29.602741578364, 28.381374259707698, 29.975630060837503, 32.63572725242336, 26.164474370233744, 25.696616434525968, 25.811969457192575, 26.904717957367836, 25.102987753585907, 24.522599562149708, 22.79231424248469, 22.58766221592623, 30.4262371228184, 43.19685943464248, 24.607082703076863, 19.503798535198587, 19.972088302836784, 25.245139822407985, 23.38573499107236, 18.59104836027208, 17.464383288598462, 20.596244394338655, 41.49207769961946, 160.77446064968913, 410.4388622704096, 64.06503510099435, 42.71803019053251, 82.69240259923153, 58.55430771601245, 75.59476881594222, 135.83466079585457, 51.10061997332571, 142.22667037532952, 157.2729293109926, 175.56776917368705, 110.76037312520303, 208.90952733189917, 158.54573000530402, 145.26306194793636, 131.3115935175318, 95.39963858957405, 290.96635081991616, 113.12682465339614, 74.44256240317337, 91.4120724436283, 68.47206074194439, 225.36104250997505, 66.01735204276439, 65.64936153458436, 74.36762627403299, 75.68104380866478, 125.98192325124006, 349.5009355014564, 106.34499918384732, 111.43222447136749, 124.03293388252379, 186.71526364901416, 51.70495479885396, 51.7049574463766, 56.57978377967128, 30.601590021842952, 30.260062451992106, 27.34720124516967, 27.347157847028086, 26.897418697989103, 26.897418697989103, 26.897418697989103, 26.277231907400214, 26.277224025493773, 26.277217284005555, 26.277217284005555, 26.277217284005555, 26.277217284005555, 27.58153761740216, 27.751214072573262, 30.580675325533345, 32.056064934580924, 28.818419895289182, 29.35635500171295, 27.620690308407184, 10.742878015507443, 33.977302704051766, 27.573915087533916, 27.16973367781517, 8.74058688385422, 22.78275464314476, 15.558615137108742, 29.26274693185052, 29.047848019389363, 137.39630392379223, 62.52363028607891, 89.86392864489397, 127.78690744085827, 59.82302566941965, 108.74729656046667, 349.5009355014564, 35.068441698640456, 133.83613300384934, 130.01384298804666, 124.03293388252379, 48.238562161627236, 33.025976121996955, 51.92139056507829, 39.063216985003265, 111.43222447136749, 88.38276127321339, 290.96635081991616, 38.95694067031487, 225.36104250997505, 90.50489746196254, 125.98192325124006, 42.13767056199916, 53.90592082357769, 410.4388622704096, 106.34499918384732, 58.244688369063155, 57.271630442838415], \"Category\": [\"Default\", \"Default\", \"Default\", \"Default\", \"Default\", \"Default\", \"Default\", \"Default\", \"Default\", \"Default\", \"Default\", \"Default\", \"Default\", \"Default\", \"Default\", \"Default\", \"Default\", \"Default\", \"Default\", \"Default\", \"Default\", \"Default\", \"Default\", \"Default\", \"Default\", \"Default\", \"Default\", \"Default\", \"Default\", \"Default\", \"Topic1\", \"Topic1\", \"Topic1\", \"Topic1\", \"Topic1\", \"Topic1\", \"Topic1\", \"Topic1\", \"Topic1\", \"Topic1\", \"Topic1\", \"Topic1\", \"Topic1\", \"Topic1\", \"Topic1\", \"Topic1\", \"Topic1\", \"Topic1\", \"Topic1\", \"Topic1\", \"Topic1\", \"Topic1\", \"Topic1\", \"Topic1\", \"Topic1\", \"Topic1\", \"Topic1\", \"Topic1\", \"Topic1\", \"Topic1\", \"Topic1\", \"Topic1\", \"Topic1\", \"Topic1\", \"Topic1\", \"Topic1\", \"Topic1\", \"Topic1\", \"Topic1\", \"Topic1\", \"Topic1\", \"Topic1\", \"Topic1\", \"Topic1\", \"Topic1\", \"Topic1\", \"Topic1\", \"Topic1\", \"Topic1\", \"Topic1\", \"Topic1\", \"Topic1\", \"Topic1\", \"Topic1\", \"Topic1\", \"Topic1\", \"Topic1\", \"Topic1\", \"Topic1\", \"Topic1\", \"Topic1\", \"Topic1\", \"Topic1\", \"Topic1\", \"Topic1\", \"Topic2\", \"Topic2\", \"Topic2\", \"Topic2\", \"Topic2\", \"Topic2\", \"Topic2\", \"Topic2\", \"Topic2\", \"Topic2\", \"Topic2\", \"Topic2\", \"Topic2\", \"Topic2\", \"Topic2\", \"Topic2\", \"Topic2\", \"Topic2\", \"Topic2\", \"Topic2\", \"Topic2\", \"Topic2\", \"Topic2\", \"Topic2\", \"Topic2\", \"Topic2\", \"Topic2\", \"Topic2\", \"Topic2\", \"Topic2\", \"Topic2\", \"Topic2\", \"Topic2\", \"Topic2\", \"Topic2\", \"Topic2\", \"Topic2\", \"Topic2\", \"Topic2\", \"Topic2\", \"Topic2\", \"Topic2\", \"Topic2\", \"Topic2\", \"Topic2\", \"Topic2\", \"Topic2\", \"Topic2\", \"Topic2\", \"Topic2\", \"Topic2\", \"Topic2\", \"Topic2\", \"Topic2\", \"Topic2\", \"Topic2\", \"Topic2\", \"Topic2\", \"Topic2\", \"Topic2\", \"Topic2\"], \"logprob\": [30.0, 29.0, 28.0, 27.0, 26.0, 25.0, 24.0, 23.0, 22.0, 21.0, 20.0, 19.0, 18.0, 17.0, 16.0, 15.0, 14.0, 13.0, 12.0, 11.0, 10.0, 9.0, 8.0, 7.0, 6.0, 5.0, 4.0, 3.0, 2.0, 1.0, -6.042, -6.2572, -6.2747, -6.4575, -6.4884, -6.5127, -6.6257, -6.7279, -6.7137, -6.7787, -6.8211, -6.7667, -6.6817, -6.9035, -6.9219, -6.9177, -6.8767, -6.9468, -6.9709, -7.0442, -7.0533, -6.7567, -6.4081, -6.971, -7.2035, -7.1805, -6.9472, -7.0238, -7.2534, -7.316, -7.1511, -6.4614, -5.1355, -4.2322, -6.0421, -6.4387, -5.8006, -6.1375, -5.8931, -5.3335, -6.2715, -5.3009, -5.2066, -5.1041, -5.5409, -4.9445, -5.2136, -5.2976, -5.4012, -5.7041, -4.7077, -5.5598, -5.9428, -5.764, -6.0225, -4.9983, -6.0659, -6.0728, -5.9961, -5.9839, -5.6841, -5.1464, -5.8605, -5.9627, -6.0687, -4.0338, -5.3236, -5.3236, -5.2342, -5.854, -5.8664, -5.9679, -5.968, -5.9848, -5.9848, -5.9848, -6.0085, -6.0085, -6.0085, -6.0085, -6.0085, -6.0085, -5.9605, -5.9555, -5.8627, -5.8164, -5.926, -5.9097, -5.9737, -6.9292, -5.779, -5.9917, -6.0088, -7.1482, -6.1927, -6.5768, -5.9528, -5.9649, -4.5125, -5.2741, -4.9767, -4.7141, -5.3512, -4.8724, -3.9609, -5.7956, -4.8894, -4.992, -5.0907, -5.6485, -5.8716, -5.681, -5.8349, -5.4433, -5.549, -5.1721, -5.8465, -5.3025, -5.628, -5.601, -5.8364, -5.8095, -5.6156, -5.7551, -5.8142, -5.816], \"loglift\": [30.0, 29.0, 28.0, 27.0, 26.0, 25.0, 24.0, 23.0, 22.0, 21.0, 20.0, 19.0, 18.0, 17.0, 16.0, 15.0, 14.0, 13.0, 12.0, 11.0, 10.0, 9.0, 8.0, 7.0, 6.0, 5.0, 4.0, 3.0, 2.0, 1.0, 0.3369, 0.3352, 0.3351, 0.3333, 0.3329, 0.3321, 0.3304, 0.3301, 0.33, 0.3287, 0.3285, 0.3282, 0.3282, 0.3274, 0.3271, 0.3268, 0.3264, 0.3256, 0.3248, 0.3247, 0.3247, 0.3233, 0.3214, 0.3213, 0.3212, 0.3205, 0.3195, 0.3195, 0.3193, 0.3192, 0.3191, 0.3084, 0.2799, 0.2459, 0.2934, 0.302, 0.2796, 0.2879, 0.2769, 0.2504, 0.2901, 0.237, 0.2308, 0.2232, 0.247, 0.2089, 0.2157, 0.2192, 0.2166, 0.2332, 0.1144, 0.2071, 0.2426, 0.216, 0.2465, 0.0794, 0.2395, 0.2382, 0.1903, 0.1849, -0.0249, -0.5075, -0.0318, -0.1808, -0.3939, 1.232, 1.2262, 1.2262, 1.2255, 1.2203, 1.2192, 1.2188, 1.2187, 1.2185, 1.2185, 1.2185, 1.2182, 1.2182, 1.2181, 1.2181, 1.2181, 1.2181, 1.2177, 1.2166, 1.2123, 1.2115, 1.2083, 1.2061, 1.2031, 1.1919, 1.1906, 1.1868, 1.1845, 1.1792, 1.1767, 1.1739, 1.1662, 1.1615, 1.06, 1.0857, 1.0203, 0.9309, 1.0527, 0.9339, 0.6779, 1.1425, 0.7093, 0.6357, 0.5841, 0.9707, 1.1264, 0.8646, 0.9953, 0.3386, 0.4647, -0.35, 0.9864, -0.2248, 0.362, 0.0582, 0.918, 0.6987, -1.1375, 0.0735, 0.6164, 0.6315]}, \"token.table\": {\"Topic\": [1, 2, 2, 1, 2, 1, 2, 1, 2, 1, 2, 1, 2, 1, 1, 1, 2, 1, 2, 1, 1, 1, 1, 2, 1, 2, 1, 1, 2, 1, 2, 1, 1, 2, 1, 1, 2, 1, 1, 2, 1, 2, 2, 1, 2, 1, 2, 1, 1, 2, 1, 2, 2, 1, 2, 2, 2, 1, 2, 1, 2, 1, 2, 1, 2, 1, 1, 1, 2, 1, 2, 1, 2, 2, 1, 2, 1, 2, 1, 2, 1, 2, 1, 2, 1, 2, 1, 2, 1, 2, 1, 1, 2, 1, 2, 2, 1, 2, 2, 1, 2, 1, 2, 1, 2, 1, 2, 1, 2, 1, 2, 1, 2, 2, 1, 2, 1, 2, 1, 2, 1, 2, 1, 2, 1, 2, 1, 2, 2, 1, 2, 2, 2, 1, 2, 1, 2, 1, 2, 1, 2, 1, 2, 2, 1, 2, 2, 2, 1, 1, 2, 1, 1, 1, 2, 1, 2, 1, 2, 2, 1, 2, 1, 2, 1, 1, 2, 1, 2, 1, 1, 2, 1, 2, 2, 1, 2, 1, 1, 1, 2, 1, 2, 1, 2, 1, 1, 2, 1, 2, 1, 2], \"Freq\": [0.8751579289413237, 0.12033421522943202, 0.9961692277586973, 0.8811600022989767, 0.11702906280533285, 0.03620474321366327, 0.9775280667689085, 0.06427307258310588, 0.9640960887465881, 0.8751240062056136, 0.1237549099684706, 0.42632217789694327, 0.5722445340898568, 1.0013975352371765, 1.0008129917240451, 0.9958973905976114, 0.9894500261814256, 0.8605895227066961, 0.1479138242152134, 0.9857561486205468, 0.9728907330542556, 0.9895324658627557, 0.22803333074364038, 0.7670212034104268, 0.1439455763975989, 0.8636734583855934, 0.9937138286094958, 0.9432547313690565, 0.06046504688263182, 0.893704430341, 0.10603272902350848, 0.9844536277936842, 0.767657080714572, 0.2307408566309696, 0.9824718087904261, 0.03680566073478031, 0.9569471791042881, 0.9786890634973164, 0.034064174518316385, 0.9878610610311752, 0.7939062346868064, 0.2062094116069627, 0.9666355084825967, 0.4539769480799057, 0.5412802073260414, 0.9722929062365439, 0.02314983110087009, 0.9871167311428509, 0.2582424182639595, 0.7355996156609755, 0.4635615840008706, 0.5322373742232218, 0.9803412168644327, 0.9835055433913188, 0.042761110582231254, 0.989450280027395, 0.989450280027395, 0.899971852411464, 0.09843442135750388, 0.08554700051346464, 0.9125013388102895, 0.6864450661549107, 0.3103107833303021, 0.8759772823058657, 0.12445578874290987, 0.9652376571305856, 0.9966202614392262, 0.9118784737735585, 0.09028499740332262, 0.03119534484475155, 0.9670556901872981, 0.9865625160988372, 0.9729304069144963, 0.9152703481247642, 0.06834628357541976, 0.9226748282681667, 0.475680112960007, 0.5240543617356009, 0.9859911325512303, 0.03286637108504101, 0.8909887003417789, 0.10482220004020928, 0.3081581565105733, 0.6933558521487899, 0.905478808848238, 0.08762698150144238, 0.9902896231063694, 0.039611584924254775, 0.690575264726669, 0.3095682221188516, 0.973983043915369, 0.45379783140034097, 0.5460956954139696, 0.20479624100266178, 0.7935854338853144, 0.978915692610435, 0.2574776650602177, 0.7448461024956298, 0.989450280027395, 0.02943141216094092, 0.9712366013110504, 0.9393232415781996, 0.05870770259863747, 0.09083758762854097, 0.9083758762854097, 0.4109503074062825, 0.5902740779108422, 0.9521574428834305, 0.04682741522377527, 0.8987139953968715, 0.10662708419962882, 0.883394960739034, 0.1218475807915909, 0.9666355084825967, 0.9710508196094941, 0.04855254098047471, 0.8901722668569555, 0.10809234668977317, 0.5922882748962685, 0.4038329147020012, 0.1891749031714065, 0.8123392900889809, 0.5317779092091404, 0.46389136760797356, 0.2310243013219461, 0.770081004406487, 0.5856036688210698, 0.4198667814188803, 0.9914057529654905, 0.8588676467561894, 0.1453468325279705, 0.987305523704877, 0.98944972939398, 0.9000227536114997, 0.09403222798926117, 0.9663732599315326, 0.989450280027395, 0.017674157326124193, 0.9897528102629548, 0.9392038971227733, 0.06219893358428962, 0.9640394556661803, 0.02410098639165451, 0.9666355084825967, 0.03626615940556432, 0.9429201445446723, 0.9873039569184069, 0.9863658173264743, 0.9685429095776992, 0.9597820830485467, 0.04681863819749008, 0.9871820154367416, 0.9734096944092132, 0.1601207555932687, 0.8369948587829954, 0.9392989541734351, 0.0512344884094601, 0.9753289444993432, 0.040638706020805965, 0.9308492552521688, 0.03270038968580428, 0.9810116905741284, 0.9392184288951324, 0.0661421428799389, 0.9889935770026651, 0.9128745143064712, 0.0883426949328843, 0.8767186602587774, 0.1198392413303365, 0.9682079058255201, 0.043892848589355986, 0.9656426689658317, 0.1671597163149139, 0.8357985815745694, 0.9863657668201793, 0.26104907683055656, 0.735683761977023, 0.9741692094342863, 0.9796389946935006, 0.06885191628188791, 0.9295008698054869, 0.03470002878830513, 0.9716008060725437, 0.9805205121520265, 0.03064126600475083, 0.9944830100690231, 0.9063469232475241, 0.09258382549302666, 0.8885457777029171, 0.11391612534652784, 0.40811843418835564, 0.5936268133648809], \"Term\": [\"accountability\", \"accountability\", \"affiliate\", \"amp\", \"amp\", \"associate\", \"associate\", \"boost\", \"boost\", \"bos\", \"bos\", \"business\", \"business\", \"businessgrowth\", \"businesswoman\", \"career\", \"cashing\", \"cbd\", \"cbd\", \"cbdbusiness\", \"cbdcoffee\", \"cbdmovement\", \"change\", \"change\", \"changing\", \"changing\", \"cocoa\", \"coffee\", \"coffee\", \"coworking\", \"coworking\", \"dailywisdom\", \"day\", \"day\", \"dogmom\", \"earning\", \"earning\", \"employee\", \"enterprise\", \"enterprise\", \"entrepreneur\", \"entrepreneur\", \"ethically\", \"family\", \"family\", \"feel\", \"feel\", \"florida\", \"free\", \"free\", \"friend\", \"friend\", \"funnel\", \"futureofwork\", \"futureofwork\", \"gateway\", \"generating\", \"get\", \"get\", \"gold\", \"gold\", \"great\", \"great\", \"home\", \"home\", \"idea\", \"islandlife\", \"job\", \"job\", \"karatbars\", \"karatbars\", \"keweenaw\", \"knock\", \"lashelltaughtme\", \"launch\", \"launch\", \"life\", \"life\", \"lifestyle\", \"lifestyle\", \"like\", \"like\", \"link\", \"link\", \"looking\", \"looking\", \"lot\", \"lot\", \"love\", \"love\", \"lovelife\", \"make\", \"make\", \"making\", \"making\", \"marketer\", \"marketing\", \"marketing\", \"method\", \"million\", \"million\", \"mindset\", \"mindset\", \"minute\", \"minute\", \"money\", \"money\", \"motivation\", \"motivation\", \"need\", \"need\", \"new\", \"new\", \"niche\", \"nyc\", \"nyc\", \"office\", \"office\", \"one\", \"one\", \"online\", \"online\", \"opportunity\", \"opportunity\", \"paid\", \"paid\", \"people\", \"people\", \"per\", \"plantbased\", \"plantbased\", \"possible\", \"profitable\", \"prosperity\", \"prosperity\", \"real\", \"referring\", \"register\", \"register\", \"remote\", \"remote\", \"remotely\", \"remotely\", \"reveals\", \"risk\", \"risk\", \"seating\", \"sfi\", \"smallbiz\", \"smallbusiness\", \"smallbusiness\", \"snow\", \"snowday\", \"start\", \"start\", \"startup\", \"startup\", \"stay\", \"stay\", \"storytime\", \"teach\", \"teach\", \"team\", \"team\", \"thecbdwarrior\", \"time\", \"time\", \"today\", \"today\", \"top\", \"train\", \"train\", \"training\", \"training\", \"tripleclicks\", \"use\", \"use\", \"virtualoffice\", \"wealth\", \"webinar\", \"webinar\", \"weird\", \"weird\", \"winter\", \"winter\", \"wisdom\", \"work\", \"work\", \"working\", \"working\", \"world\", \"world\"]}, \"R\": 30, \"lambda.step\": 0.01, \"plot.opts\": {\"xlab\": \"PC1\", \"ylab\": \"PC2\"}, \"topic.order\": [1, 2]};\n",
       "\n",
       "function LDAvis_load_lib(url, callback){\n",
       "  var s = document.createElement('script');\n",
       "  s.src = url;\n",
       "  s.async = true;\n",
       "  s.onreadystatechange = s.onload = callback;\n",
       "  s.onerror = function(){console.warn(\"failed to load library \" + url);};\n",
       "  document.getElementsByTagName(\"head\")[0].appendChild(s);\n",
       "}\n",
       "\n",
       "if(typeof(LDAvis) !== \"undefined\"){\n",
       "   // already loaded: just create the visualization\n",
       "   !function(LDAvis){\n",
       "       new LDAvis(\"#\" + \"ldavis_el142721404438787152807753571094\", ldavis_el142721404438787152807753571094_data);\n",
       "   }(LDAvis);\n",
       "}else if(typeof define === \"function\" && define.amd){\n",
       "   // require.js is available: use it to load d3/LDAvis\n",
       "   require.config({paths: {d3: \"https://d3js.org/d3.v5\"}});\n",
       "   require([\"d3\"], function(d3){\n",
       "      window.d3 = d3;\n",
       "      LDAvis_load_lib(\"https://cdn.jsdelivr.net/gh/bmabey/pyLDAvis@3.3.1/pyLDAvis/js/ldavis.v3.0.0.js\", function(){\n",
       "        new LDAvis(\"#\" + \"ldavis_el142721404438787152807753571094\", ldavis_el142721404438787152807753571094_data);\n",
       "      });\n",
       "    });\n",
       "}else{\n",
       "    // require.js not available: dynamically load d3 & LDAvis\n",
       "    LDAvis_load_lib(\"https://d3js.org/d3.v5.js\", function(){\n",
       "         LDAvis_load_lib(\"https://cdn.jsdelivr.net/gh/bmabey/pyLDAvis@3.3.1/pyLDAvis/js/ldavis.v3.0.0.js\", function(){\n",
       "                 new LDAvis(\"#\" + \"ldavis_el142721404438787152807753571094\", ldavis_el142721404438787152807753571094_data);\n",
       "            })\n",
       "         });\n",
       "}\n",
       "</script>"
      ],
      "text/plain": [
       "PreparedData(topic_coordinates=              x         y  topics  cluster       Freq\n",
       "topic                                                \n",
       "0     -0.005068 -0.089444       1        1  70.900944\n",
       "1      0.005068  0.089444       2        1  29.099056, topic_info=           Term        Freq       Total Category  logprob  loglift\n",
       "441   affiliate  186.000000  186.000000  Default  30.0000  30.0000\n",
       "11     business  349.000000  349.000000  Default  29.0000  29.0000\n",
       "171       start  137.000000  137.000000  Default  28.0000  28.0000\n",
       "470        free  127.000000  127.000000  Default  27.0000  27.0000\n",
       "640   marketing  108.000000  108.000000  Default  26.0000  26.0000\n",
       "...         ...         ...         ...      ...      ...      ...\n",
       "837       world   31.545504   53.905921   Topic2  -5.8095   0.6987\n",
       "137        work   38.293310  410.438862   Topic2  -5.6156  -1.1375\n",
       "156       great   33.307117  106.344999   Topic2  -5.7551   0.0735\n",
       "779      friend   31.394628   58.244688   Topic2  -5.8142   0.6164\n",
       "2443     family   31.338217   57.271630   Topic2  -5.8160   0.6315\n",
       "\n",
       "[156 rows x 6 columns], token_table=      Topic      Freq            Term\n",
       "term                                 \n",
       "4437      1  0.875158  accountability\n",
       "4437      2  0.120334  accountability\n",
       "441       2  0.996169       affiliate\n",
       "142       1  0.881160             amp\n",
       "142       2  0.117029             amp\n",
       "...     ...       ...             ...\n",
       "137       2  0.092584            work\n",
       "256       1  0.888546         working\n",
       "256       2  0.113916         working\n",
       "837       1  0.408118           world\n",
       "837       2  0.593627           world\n",
       "\n",
       "[192 rows x 3 columns], R=30, lambda_step=0.01, plot_opts={'xlab': 'PC1', 'ylab': 'PC2'}, topic_order=[1, 2])"
      ]
     },
     "execution_count": 34,
     "metadata": {},
     "output_type": "execute_result"
    }
   ],
   "source": [
    "df_pre_agg = df_pre_lockdown.groupby(['year','month','date'])['lematize_text'].apply(lambda x: ', '.join(x)).reset_index()\n",
    "# topic model for pre_lockdown tweets\n",
    "import gensim\n",
    "import gensim.corpora as corpora\n",
    "from pprint import pprint\n",
    "import pyLDAvis\n",
    "import pyLDAvis.gensim_models as gensimvis\n",
    "import gensim.corpora as corpora\n",
    "def sent_to_words(sentences):\n",
    "    '''\n",
    "    tokenize words\n",
    "    '''\n",
    "    for sentence in sentences:\n",
    "        yield(gensim.utils.simple_preprocess(str(sentence), deacc=True))            #deacc=True removes punctuations\n",
    "data_words = list(sent_to_words(df_pre_agg['lematize_text'].values.tolist()))\n",
    "# Create Dictionary\n",
    "id2word = corpora.Dictionary(data_words)\n",
    "# Create Corpus\n",
    "texts = data_words\n",
    "# Term Document Frequency\n",
    "corpus = [id2word.doc2bow(text) for text in texts]\n",
    "# number of topics\n",
    "num_topics = 2\n",
    "# Build LDA model\n",
    "lda_model = gensim.models.ldamodel.LdaModel(corpus=corpus,\n",
    "                                       id2word=id2word,\n",
    "                                       num_topics=num_topics, \n",
    "                                       random_state=100,\n",
    "                                      update_every=1,\n",
    "                                      chunksize=100,\n",
    "                                      passes=10,\n",
    "                                      alpha='auto')\n",
    "pyLDAvis.enable_notebook()\n",
    "vis = gensimvis.prepare(lda_model, corpus, id2word, mds='mmds')\n",
    "vis"
   ]
  },
  {
   "cell_type": "markdown",
   "id": "d89ef5af",
   "metadata": {},
   "source": [
    "I tried different number of topics and found out that 2 topics are the easiest to interpret with lambda around 0.5: topic 1 is related to how entreprenteur can utilize and benefit from remote work and topic 2 is how business in general can utilize remote work"
   ]
  },
  {
   "cell_type": "code",
   "execution_count": 38,
   "id": "e7ab1ba8",
   "metadata": {},
   "outputs": [
    {
     "name": "stderr",
     "output_type": "stream",
     "text": [
      "/Users/yanshi/opt/anaconda3/lib/python3.9/site-packages/pyLDAvis/_prepare.py:246: FutureWarning: In a future version of pandas all arguments of DataFrame.drop except for the argument 'labels' will be keyword-only\n",
      "  default_term_info = default_term_info.sort_values(\n"
     ]
    },
    {
     "data": {
      "text/html": [
       "\n",
       "<link rel=\"stylesheet\" type=\"text/css\" href=\"https://cdn.jsdelivr.net/gh/bmabey/pyLDAvis@3.3.1/pyLDAvis/js/ldavis.v1.0.0.css\">\n",
       "\n",
       "\n",
       "<div id=\"ldavis_el14272140443878267360382701759\"></div>\n",
       "<script type=\"text/javascript\">\n",
       "\n",
       "var ldavis_el14272140443878267360382701759_data = {\"mdsDat\": {\"x\": [-0.00897749080870784, 0.00897749080870784], \"y\": [0.028339681544191777, -0.028339681544191777], \"topics\": [1, 2], \"cluster\": [1, 1], \"Freq\": [63.717567046600045, 36.28243295339996]}, \"tinfo\": {\"Term\": [\"stayhome\", \"work\", \"womeninbusiness\", \"amp\", \"womenintech\", \"quarantinelife\", \"business\", \"zoom\", \"quarantine\", \"superagent\", \"new\", \"staysafe\", \"workingmom\", \"york\", \"home\", \"day\", \"fortress\", \"solitude\", \"texas\", \"today\", \"shawn\", \"florida\", \"good\", \"one\", \"maryland\", \"april\", \"guide\", \"week\", \"space\", \"los\", \"wearecisco\", \"coronapocolypse\", \"coronapocalypse\", \"slackhq\", \"stpatricksday\", \"locating\", \"schoolclosure\", \"guardian\", \"educator\", \"worklife\", \"useful\", \"swedetown\", \"harder\", \"appropriate\", \"biz\", \"grader\", \"happiness\", \"opened\", \"coronaoutbreak\", \"lockdownnow\", \"source\", \"womenofcisco\", \"lean\", \"pickup\", \"dislike\", \"laughing\", \"brilliant\", \"compliance\", \"met\", \"distributed\", \"priceswebex\", \"america\", \"webex\", \"spirit\", \"selfquarantine\", \"calling\", \"conferencing\", \"consider\", \"waiting\", \"teamsjoin\", \"ability\", \"imagine\", \"financial\", \"coronavirus\", \"ever\", \"home\", \"covid\", \"day\", \"company\", \"seattle\", \"work\", \"working\", \"office\", \"time\", \"much\", \"remote\", \"new\", \"today\", \"like\", \"get\", \"first\", \"learn\", \"amp\", \"see\", \"people\", \"still\", \"going\", \"go\", \"make\", \"week\", \"meeting\", \"team\", \"stay\", \"call\", \"need\", \"quarantine\", \"morning\", \"one\", \"zoom\", \"thing\", \"stayhome\", \"great\", \"quarantinelife\", \"california\", \"superagent\", \"covidpandemic\", \"jersey\", \"earth\", \"meredithnbc\", \"tedtalks\", \"earthday\", \"socialnetwork\", \"salestips\", \"hatoftheday\", \"dd\", \"plaid\", \"lit\", \"earned\", \"covi\", \"cbdhealth\", \"crawford\", \"snhu\", \"laptoplifestyle\", \"barton\", \"qualitytime\", \"ceoglenn\", \"billboard\", \"initiative\", \"bella\", \"fatherdaughter\", \"fabulous\", \"arelipro\", \"million\", \"easter\", \"virbela\", \"parenting\", \"zoombackground\", \"pearland\", \"disney\", \"guide\", \"finance\", \"bossmom\", \"thomas\", \"stayhome\", \"womeninbusiness\", \"april\", \"register\", \"perry\", \"womenintech\", \"creditrepair\", \"staysafe\", \"juggling\", \"circus\", \"work\", \"workingmom\", \"amp\", \"business\", \"home\", \"quarantinelife\", \"day\", \"zoom\", \"new\", \"quarantine\", \"covid\", \"fortress\", \"today\", \"working\", \"solitude\", \"time\", \"york\", \"week\", \"one\", \"good\", \"texas\", \"office\", \"get\", \"need\", \"like\", \"life\", \"florida\", \"call\", \"meeting\", \"make\", \"california\", \"team\", \"coronavirus\", \"morning\"], \"Freq\": [467.0, 1271.0, 84.0, 660.0, 96.0, 274.0, 232.0, 348.0, 408.0, 22.0, 663.0, 86.0, 84.0, 165.0, 1389.0, 1111.0, 76.0, 77.0, 157.0, 579.0, 76.0, 110.0, 233.0, 299.0, 46.0, 30.0, 23.0, 403.0, 98.0, 75.0, 22.006680132627125, 17.526675970447236, 11.222772186542102, 10.321424261502052, 10.3209120678562, 13.735811634071691, 9.430637978498117, 9.420026162390574, 9.4139362844707, 10.257689601974345, 8.515823019098184, 7.630646824456068, 8.474788991013298, 7.60371066514999, 9.284462093144374, 7.58571437555035, 7.584075355883622, 7.5827211786015765, 6.737408283710969, 6.7354023661469045, 8.418757619389899, 6.732252375224911, 6.725169991454553, 7.56213047139172, 6.721074532874041, 6.716368100444548, 6.713368631736845, 6.694820427351471, 7.531782997874947, 7.529961574552706, 16.561143909822913, 15.62399364893776, 131.94211174012216, 14.746603843005762, 20.990899784758344, 43.80597410334165, 26.338788902213622, 32.392165185121186, 17.054369666088597, 16.270690391484546, 26.163332265007583, 13.887999000358699, 13.825926356947123, 345.9844412298024, 53.04168267845292, 961.6450836729492, 678.295645209659, 760.7373978634444, 118.66633675935803, 47.65266963770145, 849.6216350864257, 504.3060811275534, 361.31629948371574, 416.47874399456435, 116.80806476282346, 160.27668931572973, 433.10736784928866, 383.1663382559232, 290.12461057545124, 290.3367799988402, 122.53510888514725, 68.31476618885807, 421.0333120533557, 149.11411242609316, 138.0781916174376, 154.6366553956116, 157.33797722735665, 150.62946973143622, 202.3384663551066, 262.415578235403, 194.10901550722383, 187.01858297957466, 144.2865806940296, 191.4970202473155, 211.24643789563402, 250.60980319940882, 163.90603077265274, 188.04419117368488, 208.42499933688444, 152.13183195227876, 220.70373189487273, 152.03426010803696, 156.74438451295325, 153.01502940697884, 21.551707439048812, 10.209403561600865, 10.189416174898465, 6.420799173897007, 9.259559256575386, 5.674015527688394, 5.670896590632987, 5.666111641207717, 5.665921171769218, 4.916930163333512, 4.9156319950667475, 4.914237401646744, 4.913455584123409, 4.908923601921144, 7.691208305650832, 4.1649725933931965, 4.164210120422208, 4.161304866268116, 4.161127491603515, 4.160910237400228, 4.160439718365438, 4.159283806960552, 4.158277890238484, 4.156969305674302, 4.155880951398384, 4.155700005431811, 4.15482503644871, 4.15413637038514, 6.899276855131211, 10.97968697000118, 6.1658594017692065, 10.02291969610329, 6.134833715888844, 13.747101962754117, 7.314999618116237, 18.58919221957424, 15.455262838489272, 14.315825849599731, 13.061559597975618, 246.5975630900425, 53.795921552203225, 21.588289475580364, 8.274559650156107, 15.74091818844288, 56.72376061996522, 14.670108528678211, 48.788637151373656, 17.819838540120596, 10.43240875149647, 421.6743091506826, 46.698582670581736, 239.49143404383435, 103.26669166540626, 427.9355348146568, 117.7688823371045, 351.08012593957363, 140.5188663458969, 230.866996915582, 157.5561290562301, 301.7034953463483, 41.74687249016996, 196.77222459360326, 234.1640038490411, 42.03488608985897, 198.43641321859312, 73.86520058968499, 141.54783939349545, 111.24097088881707, 92.52863422508383, 69.2146083063309, 158.8353979929591, 137.85454174629712, 113.03852621464335, 136.51275121638113, 76.12483477330777, 52.93429495326915, 96.92859253605417, 93.97364014372197, 95.42317923499635, 82.10695604557876, 89.27984462998053, 114.6620972318735, 80.55954423333209], \"Total\": [467.0, 1271.0, 84.0, 660.0, 96.0, 274.0, 232.0, 348.0, 408.0, 22.0, 663.0, 86.0, 84.0, 165.0, 1389.0, 1111.0, 76.0, 77.0, 157.0, 579.0, 76.0, 110.0, 233.0, 299.0, 46.0, 30.0, 23.0, 403.0, 98.0, 75.0, 22.521334619222262, 18.00307954365917, 11.672395756701196, 10.767859589026848, 10.767851506974958, 14.354889725487324, 9.865166920058357, 9.863392290680132, 9.862371875909286, 10.757379180074544, 8.958398810821162, 8.056546310018351, 8.951447242697098, 8.052071110442919, 9.841075322992854, 8.049044081862496, 8.048800176430642, 8.048558831723447, 7.153406557762698, 7.1530329856072, 8.942400143021603, 7.152551873290037, 7.151409048312659, 8.045154382835015, 7.1506690511410635, 7.149837109340395, 7.149348675130581, 7.146232215369777, 8.04013435969616, 8.039813106408465, 17.847275400899267, 16.935653252921576, 153.40286049881618, 16.03499090888583, 23.11649630918677, 49.57816055571696, 29.295041248463576, 36.34582413844909, 18.685666599917823, 17.800449555692897, 29.266617494306182, 15.136945500087258, 15.127271594423517, 460.64653846167596, 63.22164799789991, 1389.580618487606, 979.9991405560073, 1111.817523803018, 152.04656536367898, 57.037333388001386, 1271.2959442371084, 738.4700849765945, 520.1516974766748, 614.9151572131575, 152.5090158614295, 218.78085348858446, 663.9743647648706, 579.9385628495265, 426.6373617918324, 428.1913217451373, 164.83534271151396, 86.95926478120222, 660.52474609719, 207.87241044726406, 190.89752397936522, 217.88244195821466, 222.8785014910977, 212.67869871097813, 297.76164559010294, 403.96341762889847, 288.0826556509458, 276.2984276095552, 205.5814411771917, 288.4256127833697, 324.2849641102774, 408.16593225563895, 244.46557500598482, 299.28516206250197, 348.94386568278134, 221.28789947668724, 467.3012949849152, 222.7936565100992, 274.51326685005773, 235.1219854525576, 22.153003898672285, 10.728111637721351, 10.731954027726838, 6.921367363270714, 9.997875225501474, 6.1580740956518785, 6.158585919038852, 6.159474036887978, 6.159507782831184, 5.396598042731075, 5.396773149835181, 5.397049130869017, 5.397208926485692, 5.398015517748286, 8.484761223402671, 4.634158011711122, 4.634369000655953, 4.634865685739574, 4.634884630195609, 4.634904167557295, 4.635005881193937, 4.635178864042914, 4.635408614491466, 4.6356351735867545, 4.635797512570556, 4.635844767165841, 4.635985463809685, 4.636081976232426, 7.729607367241583, 12.386059789776667, 6.962964878969282, 11.658868944851374, 6.968955571602503, 16.382459002025684, 8.552689953637016, 23.612666244091653, 19.679775663802726, 18.08424774194169, 16.51379024127511, 467.3012949849152, 84.81456526015639, 30.28390814377017, 10.182560292575568, 21.436112750986446, 96.93159735764098, 19.828835125081692, 86.66972658756856, 25.567154192110095, 13.391151269948423, 1271.2959442371084, 84.35132990769657, 660.52474609719, 232.91704415652504, 1389.580618487606, 274.51326685005773, 1111.817523803018, 348.94386568278134, 663.9743647648706, 408.16593225563895, 979.9991405560073, 76.23886019520987, 579.9385628495265, 738.4700849765945, 77.08977252110469, 614.9151572131575, 165.18064753086554, 403.96341762889847, 299.28516206250197, 233.1441119100698, 157.91841120610312, 520.1516974766748, 428.1913217451373, 324.2849641102774, 426.6373617918324, 194.61993578921886, 110.32099786235668, 288.4256127833697, 288.0826556509458, 297.76164559010294, 235.1219854525576, 276.2984276095552, 460.64653846167596, 244.46557500598482], \"Category\": [\"Default\", \"Default\", \"Default\", \"Default\", \"Default\", \"Default\", \"Default\", \"Default\", \"Default\", \"Default\", \"Default\", \"Default\", \"Default\", \"Default\", \"Default\", \"Default\", \"Default\", \"Default\", \"Default\", \"Default\", \"Default\", \"Default\", \"Default\", \"Default\", \"Default\", \"Default\", \"Default\", \"Default\", \"Default\", \"Default\", \"Topic1\", \"Topic1\", \"Topic1\", \"Topic1\", \"Topic1\", \"Topic1\", \"Topic1\", \"Topic1\", \"Topic1\", \"Topic1\", \"Topic1\", \"Topic1\", \"Topic1\", \"Topic1\", \"Topic1\", \"Topic1\", \"Topic1\", \"Topic1\", \"Topic1\", \"Topic1\", \"Topic1\", \"Topic1\", \"Topic1\", \"Topic1\", \"Topic1\", \"Topic1\", \"Topic1\", \"Topic1\", \"Topic1\", \"Topic1\", \"Topic1\", \"Topic1\", \"Topic1\", \"Topic1\", \"Topic1\", \"Topic1\", \"Topic1\", \"Topic1\", \"Topic1\", \"Topic1\", \"Topic1\", \"Topic1\", \"Topic1\", \"Topic1\", \"Topic1\", \"Topic1\", \"Topic1\", \"Topic1\", \"Topic1\", \"Topic1\", \"Topic1\", \"Topic1\", \"Topic1\", \"Topic1\", \"Topic1\", \"Topic1\", \"Topic1\", \"Topic1\", \"Topic1\", \"Topic1\", \"Topic1\", \"Topic1\", \"Topic1\", \"Topic1\", \"Topic1\", \"Topic1\", \"Topic1\", \"Topic1\", \"Topic1\", \"Topic1\", \"Topic1\", \"Topic1\", \"Topic1\", \"Topic1\", \"Topic1\", \"Topic1\", \"Topic1\", \"Topic1\", \"Topic1\", \"Topic1\", \"Topic1\", \"Topic1\", \"Topic1\", \"Topic1\", \"Topic2\", \"Topic2\", \"Topic2\", \"Topic2\", \"Topic2\", \"Topic2\", \"Topic2\", \"Topic2\", \"Topic2\", \"Topic2\", \"Topic2\", \"Topic2\", \"Topic2\", \"Topic2\", \"Topic2\", \"Topic2\", \"Topic2\", \"Topic2\", \"Topic2\", \"Topic2\", \"Topic2\", \"Topic2\", \"Topic2\", \"Topic2\", \"Topic2\", \"Topic2\", \"Topic2\", \"Topic2\", \"Topic2\", \"Topic2\", \"Topic2\", \"Topic2\", \"Topic2\", \"Topic2\", \"Topic2\", \"Topic2\", \"Topic2\", \"Topic2\", \"Topic2\", \"Topic2\", \"Topic2\", \"Topic2\", \"Topic2\", \"Topic2\", \"Topic2\", \"Topic2\", \"Topic2\", \"Topic2\", \"Topic2\", \"Topic2\", \"Topic2\", \"Topic2\", \"Topic2\", \"Topic2\", \"Topic2\", \"Topic2\", \"Topic2\", \"Topic2\", \"Topic2\", \"Topic2\", \"Topic2\", \"Topic2\", \"Topic2\", \"Topic2\", \"Topic2\", \"Topic2\", \"Topic2\", \"Topic2\", \"Topic2\", \"Topic2\", \"Topic2\", \"Topic2\", \"Topic2\", \"Topic2\", \"Topic2\", \"Topic2\", \"Topic2\", \"Topic2\", \"Topic2\", \"Topic2\", \"Topic2\", \"Topic2\", \"Topic2\"], \"logprob\": [30.0, 29.0, 28.0, 27.0, 26.0, 25.0, 24.0, 23.0, 22.0, 21.0, 20.0, 19.0, 18.0, 17.0, 16.0, 15.0, 14.0, 13.0, 12.0, 11.0, 10.0, 9.0, 8.0, 7.0, 6.0, 5.0, 4.0, 3.0, 2.0, 1.0, -8.0907, -8.3184, -8.7641, -8.8479, -8.8479, -8.5621, -8.9381, -8.9392, -8.9399, -8.8541, -9.0402, -9.1499, -9.045, -9.1534, -8.9537, -9.1558, -9.156, -9.1562, -9.2744, -9.2747, -9.0516, -9.2752, -9.2762, -9.1589, -9.2768, -9.2775, -9.278, -9.2808, -9.163, -9.1632, -8.375, -8.4333, -6.2997, -8.4911, -8.138, -7.4023, -7.911, -7.7042, -8.3457, -8.3927, -7.9177, -8.5511, -8.5555, -5.3357, -7.211, -4.3134, -4.6625, -4.5478, -6.4058, -7.3181, -4.4373, -4.9589, -5.2923, -5.1502, -6.4216, -6.1052, -5.1111, -5.2336, -5.5118, -5.511, -6.3737, -6.958, -5.1394, -6.1774, -6.2543, -6.141, -6.1237, -6.1673, -5.8721, -5.6122, -5.9137, -5.9509, -6.2103, -5.9272, -5.8291, -5.6582, -6.0828, -5.9454, -5.8425, -6.1573, -5.7853, -6.158, -6.1275, -6.1515, -7.5485, -8.2956, -8.2976, -8.7594, -8.3933, -8.8831, -8.8836, -8.8845, -8.8845, -9.0263, -9.0265, -9.0268, -9.027, -9.0279, -8.5789, -9.1922, -9.1924, -9.1931, -9.1932, -9.1932, -9.1933, -9.1936, -9.1939, -9.1942, -9.1944, -9.1945, -9.1947, -9.1949, -8.6875, -8.2229, -8.7999, -8.3141, -8.805, -7.9981, -8.629, -7.6964, -7.881, -7.9576, -8.0493, -5.1112, -6.6338, -7.5468, -8.5058, -7.8627, -6.5808, -7.9331, -6.7315, -7.7386, -8.274, -4.5747, -6.7752, -5.1404, -5.9816, -4.56, -5.8502, -4.7579, -5.6736, -5.1771, -5.5592, -4.9095, -6.8873, -5.3369, -5.1629, -6.8805, -5.3285, -6.3167, -5.6663, -5.9073, -6.0914, -6.3817, -5.5511, -5.6928, -5.8912, -5.7025, -6.2866, -6.6499, -6.045, -6.0759, -6.0606, -6.2109, -6.1272, -5.877, -6.23], \"loglift\": [30.0, 29.0, 28.0, 27.0, 26.0, 25.0, 24.0, 23.0, 22.0, 21.0, 20.0, 19.0, 18.0, 17.0, 16.0, 15.0, 14.0, 13.0, 12.0, 11.0, 10.0, 9.0, 8.0, 7.0, 6.0, 5.0, 4.0, 3.0, 2.0, 1.0, 0.4276, 0.4239, 0.4114, 0.4084, 0.4083, 0.4066, 0.4057, 0.4047, 0.4042, 0.4031, 0.4, 0.3964, 0.396, 0.3934, 0.3925, 0.3914, 0.3912, 0.3911, 0.3908, 0.3906, 0.3904, 0.3902, 0.3893, 0.3888, 0.3888, 0.3882, 0.3878, 0.3855, 0.3854, 0.3852, 0.3759, 0.3701, 0.3, 0.3669, 0.3543, 0.3269, 0.3443, 0.3355, 0.3594, 0.3609, 0.3386, 0.3646, 0.3608, 0.1645, 0.2751, 0.0826, 0.0827, 0.0712, 0.2028, 0.2709, 0.0477, 0.0693, 0.0863, 0.0611, 0.184, 0.1395, 0.0235, 0.0363, 0.0651, 0.0622, 0.1542, 0.2094, 0.0004, 0.1185, 0.1268, 0.1078, 0.1025, 0.1058, 0.0644, 0.0193, 0.0559, 0.0604, 0.0967, 0.0411, 0.0221, -0.0371, 0.0509, -0.014, -0.0646, 0.076, -0.2994, 0.0686, -0.1097, 0.0211, 0.9863, 0.9643, 0.962, 0.9388, 0.9371, 0.932, 0.9313, 0.9303, 0.9303, 0.9208, 0.9205, 0.9201, 0.9199, 0.9189, 0.9156, 0.9071, 0.9069, 0.9061, 0.906, 0.906, 0.9058, 0.9055, 0.9052, 0.9048, 0.9046, 0.9045, 0.9043, 0.9041, 0.9002, 0.8933, 0.8923, 0.8626, 0.8864, 0.8385, 0.8575, 0.7746, 0.7722, 0.7802, 0.7793, 0.3746, 0.5586, 0.6754, 0.8063, 0.705, 0.478, 0.7125, 0.4392, 0.6528, 0.7642, -0.0897, 0.4226, -0.0007, 0.2005, -0.1639, 0.1676, -0.1389, 0.1043, -0.0426, 0.0619, -0.1643, 0.4116, -0.067, -0.1347, 0.4074, -0.1172, 0.209, -0.0349, 0.0241, 0.0897, 0.189, -0.1724, -0.1195, -0.0401, -0.1257, 0.0752, 0.2795, -0.0766, -0.1064, -0.1241, -0.0382, -0.1159, -0.3768, -0.0962]}, \"token.table\": {\"Topic\": [1, 2, 1, 2, 1, 2, 1, 1, 2, 2, 2, 2, 2, 1, 2, 1, 2, 1, 1, 2, 1, 2, 1, 2, 1, 2, 2, 2, 1, 2, 1, 2, 1, 1, 2, 1, 2, 1, 1, 1, 1, 2, 1, 2, 1, 2, 1, 2, 2, 1, 2, 1, 2, 2, 1, 1, 2, 1, 2, 2, 1, 2, 2, 1, 2, 1, 1, 2, 2, 2, 1, 2, 1, 2, 1, 2, 1, 2, 1, 2, 1, 2, 1, 2, 1, 2, 1, 2, 1, 1, 2, 1, 1, 2, 1, 1, 2, 1, 2, 1, 2, 2, 1, 2, 1, 2, 2, 1, 1, 1, 2, 1, 2, 1, 2, 2, 1, 2, 1, 1, 2, 1, 2, 1, 2, 1, 2, 1, 2, 1, 2, 1, 2, 1, 2, 1, 2, 1, 2, 1, 2, 1, 2, 1, 2, 1, 1, 2, 1, 2, 1, 2, 1, 2, 1, 2, 1, 2, 2, 1, 2, 1, 2, 1, 2, 1, 2, 2, 1, 1, 2, 1, 2, 1, 2, 1, 2, 1, 2, 2, 1, 2, 1, 2, 1, 2, 1, 2, 1, 2, 1, 2, 1, 2, 1, 2, 1, 1, 2, 1, 1, 2, 1, 2, 2, 1, 2, 1, 2, 1, 2, 1, 2, 1, 2, 1, 1, 2, 1, 2, 1, 2, 1, 2, 1, 2, 1, 2, 1, 2, 1, 1, 2, 1, 2, 1, 2, 1, 1, 2, 1, 2, 1, 2], \"Freq\": [0.8883841805448921, 0.10250586698594909, 0.9447524557247199, 0.05904702848279499, 0.6373720325961169, 0.36183352919352, 0.9935332028581583, 0.29718753462311726, 0.72645841796762, 0.8627975131817348, 0.8630167648338014, 0.8628504565079665, 0.8629228472965648, 0.9145342053192347, 0.10161491170213718, 0.22118697205872956, 0.7741544022055534, 0.9791101704620871, 0.5581386303040894, 0.44221753016400933, 0.6507260463350928, 0.3487551359442981, 0.6622158072468274, 0.336308551324305, 0.8874875450562932, 0.12102102887131272, 0.8631557210374523, 0.8629656195211212, 0.22402853492756897, 0.7467617830918966, 0.7826549696493627, 0.21703877309604172, 0.9795371587484567, 0.8875222185039118, 0.10240640982737444, 0.8804312670997662, 0.11005390838747077, 0.9785547547837575, 0.9423943660995928, 0.9998289435064873, 0.7511182025929538, 0.2496491135785829, 0.1178583549578036, 0.9428668396624288, 0.6918373414239255, 0.30816353556050957, 0.09321304939481408, 0.9321304939481407, 0.8631164241418489, 0.25215802988222186, 0.7564740896466656, 0.6844648368168976, 0.31569928741488973, 0.9264795575394347, 0.9789293770885648, 0.11692227888779622, 0.8184559522145735, 0.9950480059820384, 0.1243810007477548, 0.9262663257562637, 0.1444801218479822, 0.8668807310878932, 0.9742496214027648, 0.08073592546561016, 0.8880951801217117, 0.912559383608745, 0.8383204436834761, 0.15817366861952378, 0.8628154749892044, 0.8628416612071829, 0.203254349456699, 0.7622038104626213, 0.9254808385380565, 0.06610577418128975, 0.7461991947641232, 0.2547997250414079, 0.5166740793182159, 0.4804162491906218, 0.44596679321992594, 0.5509001563304967, 0.6772673458632358, 0.3222858404452639, 0.7099911787837435, 0.2915195568516033, 0.7044196678891927, 0.2961254654820811, 0.6047761568792595, 0.3988949119841924, 0.993906843922869, 0.6822456365274021, 0.31868052758845755, 0.9124649750070322, 0.21175075903387644, 0.8046528843287305, 0.9939369626079743, 0.8937102328929748, 0.9265096196546877, 0.6922952056189609, 0.30800659875770814, 0.9248893708390042, 0.06606352648850031, 0.8628806733522688, 0.09317967607915784, 0.9317967607915784, 0.3129014648986144, 0.7040282960218824, 0.8630204026958025, 0.9790432834973749, 0.9788280816703692, 0.7819753326007811, 0.21849310763845356, 0.6063099318242439, 0.3905047018529028, 0.6797341863873109, 0.32111580529331585, 0.9264047525496983, 0.9752774328278391, 0.06966267377341707, 0.9786058604909105, 0.49261683012963864, 0.5059307985115208, 0.6783949611766725, 0.3190471352068509, 0.3893218135345399, 0.6056117099426176, 0.6734178410069204, 0.3262952425497449, 0.1000212522606114, 0.9001912703455026, 0.995008247636091, 0.12437603095451137, 0.12937267735461494, 0.9056087414823046, 0.6708511003890224, 0.3313349947043342, 0.7671677594871297, 0.23605161830373222, 0.6506622981392584, 0.348458955875527, 0.6521336108410386, 0.3479049979313624, 0.6940283031878183, 0.30568005597469006, 0.6281634502172164, 0.3708837392239948, 0.9939667668785557, 0.17154322683103937, 0.8577161341551969, 0.18312269236437895, 0.8545725643671018, 0.7229009424706677, 0.2776358692097492, 0.27990149472058046, 0.7464039859215479, 0.9943873814365383, 0.92643218150488, 0.9525263446735082, 0.05603096145138284, 0.8629978262227437, 0.6149459819267715, 0.3870974706949398, 0.5719213566670903, 0.4298517202975583, 0.1964142556031084, 0.7856570224124336, 0.731325421986017, 0.2696762493573438, 0.974103810165515, 0.912300833116239, 0.8415540690423912, 0.15779138794544834, 0.7167858383871504, 0.28382794942846895, 0.9084421669755529, 0.08651830161671933, 0.45822295485321046, 0.5367754613994752, 0.9286896729402613, 0.8630239301878992, 0.974109146993247, 0.4540161276311735, 0.5448193531574083, 0.8946144068763211, 0.11182680085954014, 0.5262390686358459, 0.47563915819009156, 0.9354542254020058, 0.062363615026800386, 0.7004523325424383, 0.2967193908686718, 0.4729282849668414, 0.5285669067276463, 0.43844605834317374, 0.5653646541793556, 0.7113927979094608, 0.28914675011803886, 0.9286903699890756, 0.04514060506529924, 0.9930933114365833, 0.9929813212954494, 0.6768044306942448, 0.32211547771009513, 0.8988537031011623, 0.11235671288764529, 0.9743305953782706, 0.5635821644877363, 0.4369344870747619, 0.6868879878179387, 0.31181099446998534, 0.18166635013333896, 0.7872208505778021, 0.6765160935133617, 0.32199564066260966, 0.6604147827627301, 0.3396911545803077, 1.0046438197335652, 0.14361698175735, 0.8617018905441, 0.9097882544942102, 0.10703391229343649, 0.9768515219885194, 0.044402341908569065, 0.8604793911324662, 0.13689444858925598, 0.6485735800975093, 0.351516978526131, 0.3655032588437139, 0.6366830960503402, 0.41266213588140005, 0.5880435436309951, 0.9786716858552659, 0.6686090708092963, 0.33194473868414476, 0.6824921012419536, 0.3168713327194784, 0.4504967502181933, 0.5571933489540812, 0.9295944516413992, 0.5509119945966782, 0.44799436923246355, 0.5960844148757414, 0.40407645431480543, 0.14349352492285314, 0.8609611495371188], \"Term\": [\"ability\", \"ability\", \"america\", \"america\", \"amp\", \"amp\", \"appropriate\", \"april\", \"april\", \"arelipro\", \"barton\", \"bella\", \"billboard\", \"biz\", \"biz\", \"bossmom\", \"bossmom\", \"brilliant\", \"business\", \"business\", \"california\", \"california\", \"call\", \"call\", \"calling\", \"calling\", \"cbdhealth\", \"ceoglenn\", \"circus\", \"circus\", \"company\", \"company\", \"compliance\", \"conferencing\", \"conferencing\", \"consider\", \"consider\", \"coronaoutbreak\", \"coronapocalypse\", \"coronapocolypse\", \"coronavirus\", \"coronavirus\", \"covi\", \"covi\", \"covid\", \"covid\", \"covidpandemic\", \"covidpandemic\", \"crawford\", \"creditrepair\", \"creditrepair\", \"day\", \"day\", \"dd\", \"dislike\", \"disney\", \"disney\", \"distributed\", \"distributed\", \"earned\", \"earth\", \"earth\", \"earthday\", \"easter\", \"easter\", \"educator\", \"ever\", \"ever\", \"fabulous\", \"fatherdaughter\", \"finance\", \"finance\", \"financial\", \"financial\", \"first\", \"first\", \"florida\", \"florida\", \"fortress\", \"fortress\", \"get\", \"get\", \"go\", \"go\", \"going\", \"going\", \"good\", \"good\", \"grader\", \"great\", \"great\", \"guardian\", \"guide\", \"guide\", \"happiness\", \"harder\", \"hatoftheday\", \"home\", \"home\", \"imagine\", \"imagine\", \"initiative\", \"jersey\", \"jersey\", \"juggling\", \"juggling\", \"laptoplifestyle\", \"laughing\", \"lean\", \"learn\", \"learn\", \"life\", \"life\", \"like\", \"like\", \"lit\", \"locating\", \"locating\", \"lockdownnow\", \"los\", \"los\", \"make\", \"make\", \"maryland\", \"maryland\", \"meeting\", \"meeting\", \"meredithnbc\", \"meredithnbc\", \"met\", \"met\", \"million\", \"million\", \"morning\", \"morning\", \"much\", \"much\", \"need\", \"need\", \"new\", \"new\", \"office\", \"office\", \"one\", \"one\", \"opened\", \"parenting\", \"parenting\", \"pearland\", \"pearland\", \"people\", \"people\", \"perry\", \"perry\", \"pickup\", \"plaid\", \"priceswebex\", \"priceswebex\", \"qualitytime\", \"quarantine\", \"quarantine\", \"quarantinelife\", \"quarantinelife\", \"register\", \"register\", \"remote\", \"remote\", \"salestips\", \"schoolclosure\", \"seattle\", \"seattle\", \"see\", \"see\", \"selfquarantine\", \"selfquarantine\", \"shawn\", \"shawn\", \"slackhq\", \"snhu\", \"socialnetwork\", \"solitude\", \"solitude\", \"source\", \"source\", \"space\", \"space\", \"spirit\", \"spirit\", \"stay\", \"stay\", \"stayhome\", \"stayhome\", \"staysafe\", \"staysafe\", \"still\", \"still\", \"stpatricksday\", \"superagent\", \"superagent\", \"swedetown\", \"team\", \"team\", \"teamsjoin\", \"teamsjoin\", \"tedtalks\", \"texas\", \"texas\", \"thing\", \"thing\", \"thomas\", \"thomas\", \"time\", \"time\", \"today\", \"today\", \"useful\", \"virbela\", \"virbela\", \"waiting\", \"waiting\", \"wearecisco\", \"wearecisco\", \"webex\", \"webex\", \"week\", \"week\", \"womeninbusiness\", \"womeninbusiness\", \"womenintech\", \"womenintech\", \"womenofcisco\", \"work\", \"work\", \"working\", \"working\", \"workingmom\", \"workingmom\", \"worklife\", \"york\", \"york\", \"zoom\", \"zoom\", \"zoombackground\", \"zoombackground\"]}, \"R\": 30, \"lambda.step\": 0.01, \"plot.opts\": {\"xlab\": \"PC1\", \"ylab\": \"PC2\"}, \"topic.order\": [1, 2]};\n",
       "\n",
       "function LDAvis_load_lib(url, callback){\n",
       "  var s = document.createElement('script');\n",
       "  s.src = url;\n",
       "  s.async = true;\n",
       "  s.onreadystatechange = s.onload = callback;\n",
       "  s.onerror = function(){console.warn(\"failed to load library \" + url);};\n",
       "  document.getElementsByTagName(\"head\")[0].appendChild(s);\n",
       "}\n",
       "\n",
       "if(typeof(LDAvis) !== \"undefined\"){\n",
       "   // already loaded: just create the visualization\n",
       "   !function(LDAvis){\n",
       "       new LDAvis(\"#\" + \"ldavis_el14272140443878267360382701759\", ldavis_el14272140443878267360382701759_data);\n",
       "   }(LDAvis);\n",
       "}else if(typeof define === \"function\" && define.amd){\n",
       "   // require.js is available: use it to load d3/LDAvis\n",
       "   require.config({paths: {d3: \"https://d3js.org/d3.v5\"}});\n",
       "   require([\"d3\"], function(d3){\n",
       "      window.d3 = d3;\n",
       "      LDAvis_load_lib(\"https://cdn.jsdelivr.net/gh/bmabey/pyLDAvis@3.3.1/pyLDAvis/js/ldavis.v3.0.0.js\", function(){\n",
       "        new LDAvis(\"#\" + \"ldavis_el14272140443878267360382701759\", ldavis_el14272140443878267360382701759_data);\n",
       "      });\n",
       "    });\n",
       "}else{\n",
       "    // require.js not available: dynamically load d3 & LDAvis\n",
       "    LDAvis_load_lib(\"https://d3js.org/d3.v5.js\", function(){\n",
       "         LDAvis_load_lib(\"https://cdn.jsdelivr.net/gh/bmabey/pyLDAvis@3.3.1/pyLDAvis/js/ldavis.v3.0.0.js\", function(){\n",
       "                 new LDAvis(\"#\" + \"ldavis_el14272140443878267360382701759\", ldavis_el14272140443878267360382701759_data);\n",
       "            })\n",
       "         });\n",
       "}\n",
       "</script>"
      ],
      "text/plain": [
       "PreparedData(topic_coordinates=              x        y  topics  cluster       Freq\n",
       "topic                                               \n",
       "0     -0.008977  0.02834       1        1  63.717567\n",
       "1      0.008977 -0.02834       2        1  36.282433, topic_info=                  Term         Freq        Total Category  logprob  loglift\n",
       "9910          stayhome   467.000000   467.000000  Default  30.0000  30.0000\n",
       "11728             work  1271.000000  1271.000000  Default  29.0000  29.0000\n",
       "11694  womeninbusiness    84.000000    84.000000  Default  28.0000  28.0000\n",
       "322                amp   660.000000   660.000000  Default  27.0000  27.0000\n",
       "11698      womenintech    96.000000    96.000000  Default  26.0000  26.0000\n",
       "...                ...          ...          ...      ...      ...      ...\n",
       "6247              make    95.423179   297.761646   Topic2  -6.0606  -0.1241\n",
       "1421        california    82.106956   235.121985   Topic2  -6.2109  -0.0382\n",
       "10340             team    89.279845   276.298428   Topic2  -6.1272  -0.1159\n",
       "2279       coronavirus   114.662097   460.646538   Topic2  -5.8770  -0.3768\n",
       "6746           morning    80.559544   244.465575   Topic2  -6.2300  -0.0962\n",
       "\n",
       "[197 rows x 6 columns], token_table=       Topic      Freq            Term\n",
       "term                                  \n",
       "15         1  0.888384         ability\n",
       "15         2  0.102506         ability\n",
       "313        1  0.944752         america\n",
       "313        2  0.059047         america\n",
       "322        1  0.637372             amp\n",
       "...      ...       ...             ...\n",
       "11905      2  0.447994            york\n",
       "11962      1  0.596084            zoom\n",
       "11962      2  0.404076            zoom\n",
       "18054      1  0.143494  zoombackground\n",
       "18054      2  0.860961  zoombackground\n",
       "\n",
       "[244 rows x 3 columns], R=30, lambda_step=0.01, plot_opts={'xlab': 'PC1', 'ylab': 'PC2'}, topic_order=[1, 2])"
      ]
     },
     "execution_count": 38,
     "metadata": {},
     "output_type": "execute_result"
    }
   ],
   "source": [
    "df_pre_agg = df_du_lockdown.groupby(['year','month','date'])['lematize_text'].apply(lambda x: ', '.join(x)).reset_index()\n",
    "# topic model for pre_lockdown tweets\n",
    "data_words = list(sent_to_words(df_du_agg['lematize_text'].values.tolist()))\n",
    "# Create Dictionary\n",
    "id2word = corpora.Dictionary(data_words)\n",
    "# Create Corpus\n",
    "texts = data_words\n",
    "# Term Document Frequency\n",
    "corpus = [id2word.doc2bow(text) for text in texts]\n",
    "# number of topics\n",
    "num_topics = 2\n",
    "# Build LDA model\n",
    "lda_model = gensim.models.ldamodel.LdaModel(corpus=corpus,\n",
    "                                       id2word=id2word,\n",
    "                                       num_topics=num_topics, \n",
    "                                       random_state=100,\n",
    "                                      update_every=1,\n",
    "                                      chunksize=100,\n",
    "                                      passes=10,\n",
    "                                      alpha='auto')\n",
    "pyLDAvis.enable_notebook()\n",
    "vis = gensimvis.prepare(lda_model, corpus, id2word, mds='mmds')\n",
    "vis"
   ]
  },
  {
   "cell_type": "markdown",
   "id": "afc78d80",
   "metadata": {},
   "source": [
    "During the lockdown, most people were talking about remote work in general, like how they conduct remote work; some people mentioned the benefits of remote work, especially for mother and women"
   ]
  },
  {
   "cell_type": "code",
   "execution_count": 41,
   "id": "7e232ea5",
   "metadata": {},
   "outputs": [
    {
     "name": "stderr",
     "output_type": "stream",
     "text": [
      "/Users/yanshi/opt/anaconda3/lib/python3.9/site-packages/pyLDAvis/_prepare.py:246: FutureWarning: In a future version of pandas all arguments of DataFrame.drop except for the argument 'labels' will be keyword-only\n",
      "  default_term_info = default_term_info.sort_values(\n"
     ]
    },
    {
     "data": {
      "text/html": [
       "\n",
       "<link rel=\"stylesheet\" type=\"text/css\" href=\"https://cdn.jsdelivr.net/gh/bmabey/pyLDAvis@3.3.1/pyLDAvis/js/ldavis.v1.0.0.css\">\n",
       "\n",
       "\n",
       "<div id=\"ldavis_el142721404438766679046652666510\"></div>\n",
       "<script type=\"text/javascript\">\n",
       "\n",
       "var ldavis_el142721404438766679046652666510_data = {\"mdsDat\": {\"x\": [-0.041425372935582246, 0.041425372935582246], \"y\": [0.1307694880294459, -0.1307694880294459], \"topics\": [1, 2], \"cluster\": [1, 1], \"Freq\": [95.26908487564273, 4.730915124357255]}, \"tinfo\": {\"Term\": [\"remotely\", \"keweenaw\", \"place\", \"ability\", \"twitter\", \"consider\", \"code\", \"visit\", \"hiking\", \"gift\", \"tiktok\", \"country\", \"amazing\", \"locating\", \"site\", \"christmas\", \"instagram\", \"trail\", \"holiday\", \"north\", \"entire\", \"bitcoin\", \"fall\", \"home\", \"mine\", \"yes\", \"natural\", \"daysofcode\", \"beauty\", \"puremichigan\", \"home\", \"office\", \"working\", \"amp\", \"day\", \"get\", \"job\", \"today\", \"remote\", \"time\", \"business\", \"new\", \"need\", \"back\", \"morning\", \"make\", \"one\", \"good\", \"work\", \"love\", \"want\", \"meeting\", \"thing\", \"people\", \"california\", \"workingmom\", \"womeninbusiness\", \"womenintech\", \"employee\", \"zoom\", \"like\", \"week\", \"covid\", \"life\", \"go\", \"year\", \"georgroth\", \"offuse\", \"dressorcasual\", \"comfortisking\", \"checkoutyour\", \"unitedstates\", \"binance\", \"android\", \"aejmc\", \"dallascowboys\", \"mybrawlsuper\", \"texasranger\", \"ufc\", \"dell\", \"exploring\", \"wolfe\", \"fallcolor\", \"daysofcode\", \"fathersdaygifts\", \"mininghistory\", \"sliced\", \"luxe\", \"quincy\", \"giftideas\", \"hikenct\", \"transformer\", \"essentialsyes\", \"clusiv\", \"precious\", \"cliff\", \"vfx\", \"mn\", \"litecoin\", \"edge\", \"bitcoin\", \"delltechworld\", \"surround\", \"locating\", \"nba\", \"hiking\", \"keweenaw\", \"consider\", \"trail\", \"ability\", \"code\", \"twitter\", \"visit\", \"remotely\", \"puremichigan\", \"gift\", \"site\", \"place\", \"cryptocurrency\", \"tiktok\", \"country\"], \"Freq\": [142.0, 65.0, 138.0, 67.0, 71.0, 52.0, 57.0, 60.0, 39.0, 52.0, 56.0, 49.0, 111.0, 29.0, 35.0, 37.0, 33.0, 24.0, 53.0, 75.0, 26.0, 19.0, 64.0, 1561.0, 21.0, 114.0, 21.0, 15.0, 48.0, 17.0, 1561.3336313161974, 1138.9771411359222, 914.3774254627349, 934.9447913016945, 1214.1300884316734, 747.0205757904238, 701.4941193067154, 772.0601922966416, 622.2341464228417, 749.1932585933316, 499.14185994403033, 770.4451286969784, 426.9274177479223, 481.6947851315036, 360.7267557236815, 396.5926919960202, 445.36088270014784, 364.5059949030777, 2338.361077565399, 431.0561074792716, 317.0069992353654, 383.949167363785, 294.6375486556914, 362.7203390913285, 293.7517641795305, 294.67161199059, 299.0304444962494, 288.28525333008173, 280.6604737380437, 342.2392165188868, 655.124931095707, 451.9562882880245, 409.616561832791, 374.40330523318147, 348.5677295060258, 323.6143218241267, 13.628958107858452, 10.390977651162395, 9.810079076758143, 9.585559361031669, 6.466778064458907, 6.911159795528662, 5.826192254748487, 6.89308784962803, 6.21640988608994, 5.182071586957846, 5.182071586957846, 5.182071586957846, 5.182071586957846, 5.2553346955006175, 3.0803034235411983, 3.544279522453599, 3.7177244513378946, 12.213562791817063, 2.8659797230986133, 2.7436121465758463, 4.080588087763905, 2.286874446721268, 2.3919850573241574, 4.834271824992483, 6.966530972111985, 2.80523378347327, 2.102435198448116, 2.181454263449928, 2.0561622086593894, 1.8839987566913174, 2.4158576424792075, 2.3545652472319314, 6.680978833765885, 6.856316688345251, 11.465459914351767, 3.257988942120739, 5.180892303229136, 13.7912494413608, 5.272463385452905, 15.42187387238268, 21.949771159532617, 13.740171661412713, 8.667501088587082, 13.395740426356262, 10.484304403795912, 10.15798659053628, 9.087286758044579, 10.892064628878408, 6.198858313031164, 8.025248118884551, 7.29812520350515, 9.142265837753635, 6.001369336781806, 6.7385153086821274, 6.538747723661813], \"Total\": [142.0, 65.0, 138.0, 67.0, 71.0, 52.0, 57.0, 60.0, 39.0, 52.0, 56.0, 49.0, 111.0, 29.0, 35.0, 37.0, 33.0, 24.0, 53.0, 75.0, 26.0, 19.0, 64.0, 1561.0, 21.0, 114.0, 21.0, 15.0, 48.0, 17.0, 1561.7003062186895, 1139.2541476896524, 914.6585519733025, 935.2541733734364, 1214.540065131855, 747.2839661708842, 701.7490470810766, 772.3529189365792, 622.5102585456638, 749.5398803008796, 499.38538834091077, 770.8336449346789, 427.1888913914612, 482.0079007020064, 360.96752223208307, 396.8608754347338, 445.66323503507255, 364.75754498414307, 2340.0039976755006, 431.36631861462655, 317.2402332453293, 384.2352727189655, 294.8626338813658, 363.01103167528254, 293.99009079885604, 294.91604473304193, 299.2801808887538, 288.5289335736388, 280.90111982738074, 342.5368986465215, 657.7860487537324, 452.7745004490244, 410.0189785353744, 374.81822534173995, 348.8810218033981, 323.92316601870203, 14.46002180024824, 11.097651861605415, 10.551874576133136, 10.325867791553042, 7.172527515310383, 7.681544943674087, 6.532725534708909, 7.736347713070872, 7.079589449191618, 5.975494395558507, 5.975494395558507, 5.975494395558507, 5.975494395558507, 6.266582550612723, 3.803286082522598, 4.3775218857455025, 4.6224038371949465, 15.380578966588526, 3.6183373398976335, 3.487750051838465, 5.248114864983628, 3.000619331195549, 3.160289546841046, 6.471128322509513, 9.354291585264543, 3.7670315203235805, 2.8477980889556638, 2.9683491990045754, 2.869225815830172, 2.632693593611088, 3.3776629808304888, 3.2965522616939604, 9.95247972474754, 10.707659535214752, 19.193265810732306, 4.695037901254633, 8.28679456283338, 29.601047588449628, 8.995636046326464, 39.67644287686143, 65.34879327938572, 52.95829828664796, 24.086373818107827, 67.89495376365826, 57.58129502902075, 71.0811221117276, 60.88537924237189, 142.42856227934453, 17.477857283367324, 52.16028281216175, 35.398682369213844, 138.82302641187505, 16.522279360396777, 56.66865665181296, 49.122058021399745], \"Category\": [\"Default\", \"Default\", \"Default\", \"Default\", \"Default\", \"Default\", \"Default\", \"Default\", \"Default\", \"Default\", \"Default\", \"Default\", \"Default\", \"Default\", \"Default\", \"Default\", \"Default\", \"Default\", \"Default\", \"Default\", \"Default\", \"Default\", \"Default\", \"Default\", \"Default\", \"Default\", \"Default\", \"Default\", \"Default\", \"Default\", \"Topic1\", \"Topic1\", \"Topic1\", \"Topic1\", \"Topic1\", \"Topic1\", \"Topic1\", \"Topic1\", \"Topic1\", \"Topic1\", \"Topic1\", \"Topic1\", \"Topic1\", \"Topic1\", \"Topic1\", \"Topic1\", \"Topic1\", \"Topic1\", \"Topic1\", \"Topic1\", \"Topic1\", \"Topic1\", \"Topic1\", \"Topic1\", \"Topic1\", \"Topic1\", \"Topic1\", \"Topic1\", \"Topic1\", \"Topic1\", \"Topic1\", \"Topic1\", \"Topic1\", \"Topic1\", \"Topic1\", \"Topic1\", \"Topic2\", \"Topic2\", \"Topic2\", \"Topic2\", \"Topic2\", \"Topic2\", \"Topic2\", \"Topic2\", \"Topic2\", \"Topic2\", \"Topic2\", \"Topic2\", \"Topic2\", \"Topic2\", \"Topic2\", \"Topic2\", \"Topic2\", \"Topic2\", \"Topic2\", \"Topic2\", \"Topic2\", \"Topic2\", \"Topic2\", \"Topic2\", \"Topic2\", \"Topic2\", \"Topic2\", \"Topic2\", \"Topic2\", \"Topic2\", \"Topic2\", \"Topic2\", \"Topic2\", \"Topic2\", \"Topic2\", \"Topic2\", \"Topic2\", \"Topic2\", \"Topic2\", \"Topic2\", \"Topic2\", \"Topic2\", \"Topic2\", \"Topic2\", \"Topic2\", \"Topic2\", \"Topic2\", \"Topic2\", \"Topic2\", \"Topic2\", \"Topic2\", \"Topic2\", \"Topic2\", \"Topic2\", \"Topic2\"], \"logprob\": [30.0, 29.0, 28.0, 27.0, 26.0, 25.0, 24.0, 23.0, 22.0, 21.0, 20.0, 19.0, 18.0, 17.0, 16.0, 15.0, 14.0, 13.0, 12.0, 11.0, 10.0, 9.0, 8.0, 7.0, 6.0, 5.0, 4.0, 3.0, 2.0, 1.0, -4.5512, -4.8666, -5.0862, -5.064, -4.8027, -5.2884, -5.3513, -5.2554, -5.4712, -5.2855, -5.6916, -5.2575, -5.8479, -5.7272, -6.0164, -5.9216, -5.8056, -6.0059, -4.1473, -5.8382, -6.1456, -5.954, -6.2187, -6.0108, -6.2217, -6.2186, -6.2039, -6.2405, -6.2673, -6.069, -5.4197, -5.7909, -5.8893, -5.9791, -6.0506, -6.1249, -6.2897, -6.561, -6.6185, -6.6416, -7.0352, -6.9688, -7.1395, -6.9714, -7.0747, -7.2567, -7.2567, -7.2567, -7.2567, -7.2427, -7.7769, -7.6366, -7.5888, -6.3993, -7.849, -7.8926, -7.4957, -8.0747, -8.0298, -7.3262, -6.9608, -7.8704, -8.1588, -8.1219, -8.1811, -8.2685, -8.0198, -8.0455, -7.0026, -6.9767, -6.4626, -7.7208, -7.2569, -6.2779, -7.2394, -6.1661, -5.8131, -6.2816, -6.7423, -6.307, -6.552, -6.5836, -6.695, -6.5139, -7.0775, -6.8193, -6.9143, -6.689, -7.1099, -6.9941, -7.0241], \"loglift\": [30.0, 29.0, 28.0, 27.0, 26.0, 25.0, 24.0, 23.0, 22.0, 21.0, 20.0, 19.0, 18.0, 17.0, 16.0, 15.0, 14.0, 13.0, 12.0, 11.0, 10.0, 9.0, 8.0, 7.0, 6.0, 5.0, 4.0, 3.0, 2.0, 1.0, 0.0482, 0.0482, 0.0482, 0.0481, 0.0481, 0.0481, 0.0481, 0.0481, 0.048, 0.048, 0.048, 0.048, 0.0479, 0.0478, 0.0478, 0.0478, 0.0478, 0.0478, 0.0478, 0.0477, 0.0477, 0.0477, 0.0477, 0.0477, 0.0477, 0.0476, 0.0476, 0.0476, 0.0476, 0.0476, 0.0444, 0.0467, 0.0475, 0.0474, 0.0476, 0.0475, 2.9919, 2.9853, 2.9782, 2.9767, 2.9475, 2.9454, 2.9366, 2.9356, 2.921, 2.9086, 2.9086, 2.9086, 2.9086, 2.8751, 2.8402, 2.8399, 2.8332, 2.8205, 2.8179, 2.8111, 2.7994, 2.7794, 2.7725, 2.7594, 2.7563, 2.7563, 2.7476, 2.743, 2.7179, 2.7164, 2.7159, 2.7145, 2.6525, 2.6053, 2.5358, 2.6857, 2.5814, 2.2873, 2.5168, 2.1061, 1.9601, 1.7019, 2.029, 1.428, 1.3477, 1.1055, 1.1489, 0.4802, 2.0145, 1.1793, 1.472, 0.3308, 2.0383, 0.9217, 1.0345]}, \"token.table\": {\"Topic\": [1, 2, 1, 2, 1, 2, 1, 1, 2, 1, 1, 2, 1, 2, 1, 2, 1, 1, 1, 2, 1, 2, 1, 2, 1, 2, 1, 2, 1, 2, 1, 2, 1, 2, 1, 1, 2, 1, 2, 1, 1, 2, 1, 2, 1, 2, 1, 2, 1, 2, 1, 1, 2, 1, 2, 1, 2, 1, 2, 1, 2, 1, 2, 1, 2, 1, 1, 2, 1, 2, 1, 1, 1, 2, 1, 2, 1, 2, 1, 1, 2, 1, 1, 2, 1, 1, 2, 1, 2, 1, 2, 1, 1, 2, 1, 1, 1, 2, 1, 2, 1, 2, 1, 1, 2, 1, 2, 1, 2, 1, 1, 1, 2, 1, 1, 2, 1, 1, 1, 2, 1, 2, 1, 2, 1, 2, 1, 1, 2, 1, 2, 1, 2, 1, 2, 1, 2, 1, 1, 2, 1, 1, 1, 2, 1, 2, 1, 2, 1, 2, 1, 2, 1, 2, 1, 2, 1, 1, 2, 1, 2, 1, 1, 1, 2, 1, 1, 1, 1, 2, 1], \"Freq\": [0.7953462961028521, 0.19147225646920513, 0.14125112863913103, 0.8475067718347862, 0.9635241839194288, 0.036019595660539395, 0.9997282306984853, 0.12925996052510147, 0.9048197236757103, 0.9999836087707382, 0.9440968656435383, 0.04104768981058862, 0.15307546516180998, 0.9184527909708597, 0.4168128592022436, 0.5731176814030849, 0.9992282746954388, 1.0000337059018454, 0.13942086633553, 0.8365251980131799, 0.8322594678120369, 0.1610824776410394, 0.37983911322865627, 0.7596782264573125, 0.33688758732811697, 0.6737751746562339, 0.8162372863672513, 0.17366750773771306, 0.09684416072206914, 0.9684416072206914, 0.7364284967939165, 0.2643589475670469, 0.8753704899999771, 0.14250217279069394, 0.9999537130319133, 0.665767704325745, 0.36314602054131545, 0.16735016950953624, 0.8367508475476813, 0.9995553336218708, 0.19505117502513702, 0.7802047001005481, 0.15957661004596896, 0.7978830502298447, 0.21299082585313628, 0.6389724775594089, 0.0947698906753365, 0.9476989067533651, 0.373564361739839, 0.6537376330447182, 1.0003520106031618, 0.7885186181207222, 0.18774252812398148, 0.35114849043483876, 0.7022969808696775, 0.26293052331649264, 0.788791569949478, 0.9579372455656638, 0.04635180220479018, 0.2163376535717915, 0.865350614287166, 0.27637003022727863, 0.8291100906818359, 0.06915618896112817, 0.9681866454557944, 0.9996200023234283, 0.843553708450003, 0.1533734015363642, 0.30906511203665904, 0.7726627800916476, 1.000341027998562, 1.0006647018524797, 0.21380560802172593, 0.7483196280760407, 0.6048929354500264, 0.3780580846562665, 0.9396628874936019, 0.056379773249616114, 0.9995515745140723, 0.8696614143630135, 0.1499416231660368, 0.9989325997887817, 0.6580075597748544, 0.33665503058248364, 0.997817007588161, 0.9957645061657799, 0.004560753463354717, 0.30143241513371677, 0.7033423019786725, 0.5405214106761284, 0.4729562343416123, 0.9991507945826577, 0.333264532959456, 0.666529065918912, 1.0003505625620408, 0.9993876857861054, 0.7741303496330925, 0.22768539695090953, 0.2867177937458217, 0.8601533812374651, 0.30334723086906007, 0.6066944617381201, 1.0000899742107436, 0.16735016950953624, 0.8367508475476813, 0.7873184848344006, 0.18525140819632957, 0.44466005287457966, 0.5558250660932246, 0.9995578270051781, 0.9989185151165145, 0.9572626935073817, 0.03988594556280757, 0.9997769174769582, 0.09010915214052655, 0.9010915214052654, 0.9985118022243402, 0.9999696106335071, 0.9364440709879214, 0.06483074337608687, 0.34852607085952325, 0.6970521417190465, 0.6293677664062441, 0.34329150894886046, 0.31642670242021886, 0.6328534048404377, 0.9991803210651407, 0.92678040055694, 0.07723170004641167, 0.7909898935772688, 0.1977474733943172, 0.19054460996503353, 0.7621784398601341, 0.3620217657446373, 0.6033696095743954, 0.16735016950953624, 0.8367508475476813, 1.0004658647887188, 0.8823219563366936, 0.12352507388713711, 0.9992797177107335, 0.9995430600080271, 0.6227587478827217, 0.373655248729633, 0.26546101210061074, 0.7963830363018322, 0.8581744095727447, 0.14068432943815487, 0.16735016950953624, 0.8367508475476813, 0.13018214530184075, 0.9112750171128852, 0.29606269354739567, 0.5921253870947913, 0.8540638269328821, 0.147818739276845, 0.9992427402953536, 0.9982894344795117, 0.0022086049435387427, 0.22843974881228893, 0.9137589952491557, 0.99906381743047, 0.9981667919155018, 0.9991435922000598, 0.0008546993945252864, 0.9992800023879057, 1.0002846751421546, 1.0002371981672145, 0.9761547144472973, 0.026147001279838322, 0.9984325815740057], \"Term\": [\"ability\", \"ability\", \"aejmc\", \"aejmc\", \"amazing\", \"amazing\", \"amp\", \"android\", \"android\", \"back\", \"beauty\", \"beauty\", \"binance\", \"binance\", \"bitcoin\", \"bitcoin\", \"business\", \"california\", \"checkoutyour\", \"checkoutyour\", \"christmas\", \"christmas\", \"cliff\", \"cliff\", \"clusiv\", \"clusiv\", \"code\", \"code\", \"comfortisking\", \"comfortisking\", \"consider\", \"consider\", \"country\", \"country\", \"covid\", \"cryptocurrency\", \"cryptocurrency\", \"dallascowboys\", \"dallascowboys\", \"day\", \"daysofcode\", \"daysofcode\", \"dell\", \"dell\", \"delltechworld\", \"delltechworld\", \"dressorcasual\", \"dressorcasual\", \"edge\", \"edge\", \"employee\", \"entire\", \"entire\", \"essentialsyes\", \"essentialsyes\", \"exploring\", \"exploring\", \"fall\", \"fall\", \"fallcolor\", \"fallcolor\", \"fathersdaygifts\", \"fathersdaygifts\", \"georgroth\", \"georgroth\", \"get\", \"gift\", \"gift\", \"giftideas\", \"giftideas\", \"go\", \"good\", \"hikenct\", \"hikenct\", \"hiking\", \"hiking\", \"holiday\", \"holiday\", \"home\", \"instagram\", \"instagram\", \"job\", \"keweenaw\", \"keweenaw\", \"life\", \"like\", \"like\", \"litecoin\", \"litecoin\", \"locating\", \"locating\", \"love\", \"luxe\", \"luxe\", \"make\", \"meeting\", \"mine\", \"mine\", \"mininghistory\", \"mininghistory\", \"mn\", \"mn\", \"morning\", \"mybrawlsuper\", \"mybrawlsuper\", \"natural\", \"natural\", \"nba\", \"nba\", \"need\", \"new\", \"north\", \"north\", \"office\", \"offuse\", \"offuse\", \"one\", \"people\", \"place\", \"place\", \"precious\", \"precious\", \"puremichigan\", \"puremichigan\", \"quincy\", \"quincy\", \"remote\", \"remotely\", \"remotely\", \"site\", \"site\", \"sliced\", \"sliced\", \"surround\", \"surround\", \"texasranger\", \"texasranger\", \"thing\", \"tiktok\", \"tiktok\", \"time\", \"today\", \"trail\", \"trail\", \"transformer\", \"transformer\", \"twitter\", \"twitter\", \"ufc\", \"ufc\", \"unitedstates\", \"unitedstates\", \"vfx\", \"vfx\", \"visit\", \"visit\", \"want\", \"week\", \"week\", \"wolfe\", \"wolfe\", \"womeninbusiness\", \"womenintech\", \"work\", \"work\", \"working\", \"workingmom\", \"year\", \"yes\", \"yes\", \"zoom\"]}, \"R\": 30, \"lambda.step\": 0.01, \"plot.opts\": {\"xlab\": \"PC1\", \"ylab\": \"PC2\"}, \"topic.order\": [2, 1]};\n",
       "\n",
       "function LDAvis_load_lib(url, callback){\n",
       "  var s = document.createElement('script');\n",
       "  s.src = url;\n",
       "  s.async = true;\n",
       "  s.onreadystatechange = s.onload = callback;\n",
       "  s.onerror = function(){console.warn(\"failed to load library \" + url);};\n",
       "  document.getElementsByTagName(\"head\")[0].appendChild(s);\n",
       "}\n",
       "\n",
       "if(typeof(LDAvis) !== \"undefined\"){\n",
       "   // already loaded: just create the visualization\n",
       "   !function(LDAvis){\n",
       "       new LDAvis(\"#\" + \"ldavis_el142721404438766679046652666510\", ldavis_el142721404438766679046652666510_data);\n",
       "   }(LDAvis);\n",
       "}else if(typeof define === \"function\" && define.amd){\n",
       "   // require.js is available: use it to load d3/LDAvis\n",
       "   require.config({paths: {d3: \"https://d3js.org/d3.v5\"}});\n",
       "   require([\"d3\"], function(d3){\n",
       "      window.d3 = d3;\n",
       "      LDAvis_load_lib(\"https://cdn.jsdelivr.net/gh/bmabey/pyLDAvis@3.3.1/pyLDAvis/js/ldavis.v3.0.0.js\", function(){\n",
       "        new LDAvis(\"#\" + \"ldavis_el142721404438766679046652666510\", ldavis_el142721404438766679046652666510_data);\n",
       "      });\n",
       "    });\n",
       "}else{\n",
       "    // require.js not available: dynamically load d3 & LDAvis\n",
       "    LDAvis_load_lib(\"https://d3js.org/d3.v5.js\", function(){\n",
       "         LDAvis_load_lib(\"https://cdn.jsdelivr.net/gh/bmabey/pyLDAvis@3.3.1/pyLDAvis/js/ldavis.v3.0.0.js\", function(){\n",
       "                 new LDAvis(\"#\" + \"ldavis_el142721404438766679046652666510\", ldavis_el142721404438766679046652666510_data);\n",
       "            })\n",
       "         });\n",
       "}\n",
       "</script>"
      ],
      "text/plain": [
       "PreparedData(topic_coordinates=              x         y  topics  cluster       Freq\n",
       "topic                                                \n",
       "1     -0.041425  0.130769       1        1  95.269085\n",
       "0      0.041425 -0.130769       2        1   4.730915, topic_info=                Term        Freq       Total Category  logprob  loglift\n",
       "308         remotely  142.000000  142.000000  Default  30.0000  30.0000\n",
       "1579        keweenaw   65.000000   65.000000  Default  29.0000  29.0000\n",
       "1908           place  138.000000  138.000000  Default  28.0000  28.0000\n",
       "1            ability   67.000000   67.000000  Default  27.0000  27.0000\n",
       "1165         twitter   71.000000   71.000000  Default  26.0000  26.0000\n",
       "...              ...         ...         ...      ...      ...      ...\n",
       "2877            site    7.298125   35.398682   Topic2  -6.9143   1.4720\n",
       "1908           place    9.142266  138.823026   Topic2  -6.6890   0.3308\n",
       "1262  cryptocurrency    6.001369   16.522279   Topic2  -7.1099   2.0383\n",
       "4905          tiktok    6.738515   56.668657   Topic2  -6.9941   0.9217\n",
       "79           country    6.538748   49.122058   Topic2  -7.0241   1.0345\n",
       "\n",
       "[121 rows x 6 columns], token_table=       Topic      Freq        Term\n",
       "term                              \n",
       "1          1  0.795346     ability\n",
       "1          2  0.191472     ability\n",
       "23927      1  0.141251       aejmc\n",
       "23927      2  0.847507       aejmc\n",
       "462        1  0.963524     amazing\n",
       "...      ...       ...         ...\n",
       "445        1  1.000285  workingmom\n",
       "897        1  1.000237        year\n",
       "646        1  0.976155         yes\n",
       "646        2  0.026147         yes\n",
       "453        1  0.998433        zoom\n",
       "\n",
       "[171 rows x 3 columns], R=30, lambda_step=0.01, plot_opts={'xlab': 'PC1', 'ylab': 'PC2'}, topic_order=[2, 1])"
      ]
     },
     "execution_count": 41,
     "metadata": {},
     "output_type": "execute_result"
    }
   ],
   "source": [
    "df_af_agg = df_after_lockdown.groupby(['year','month','date'])['lematize_text'].apply(lambda x: ', '.join(x)).reset_index()\n",
    "data_words = list(sent_to_words(df_af_agg['lematize_text'].values.tolist()))\n",
    "# Create Dictionary\n",
    "id2word = corpora.Dictionary(data_words)\n",
    "# Create Corpus\n",
    "texts = data_words\n",
    "# Term Document Frequency\n",
    "corpus = [id2word.doc2bow(text) for text in texts]\n",
    "# number of topics\n",
    "num_topics = 2\n",
    "# Build LDA model\n",
    "lda_model = gensim.models.ldamodel.LdaModel(corpus=corpus,\n",
    "                                       id2word=id2word,\n",
    "                                       num_topics=num_topics, \n",
    "                                       random_state=100,\n",
    "                                      update_every=1,\n",
    "                                      chunksize=100,\n",
    "                                      passes=10,\n",
    "                                      alpha='auto')\n",
    "pyLDAvis.enable_notebook()\n",
    "vis = gensimvis.prepare(lda_model, corpus, id2word, mds='mmds')\n",
    "vis"
   ]
  },
  {
   "cell_type": "markdown",
   "id": "55102493",
   "metadata": {},
   "source": [
    "Here you can find out that people's perceptions towards remote work are slowly merging, indicating a collective perceptions and emotiongs are forming. Topic 1 contains 95% of the token (text content), while topic 2 only covers 5%. Meanwhile, topic 1 includes some clear positive emotions such as love, like, suggesting public reached a collective positive emotions towards remote work. "
   ]
  },
  {
   "cell_type": "markdown",
   "id": "cc8d6a0b",
   "metadata": {},
   "source": [
    "Lets looks at states with enforced stay at home order, California; and states with shelter in place, Texas"
   ]
  },
  {
   "cell_type": "code",
   "execution_count": 42,
   "id": "bca88999",
   "metadata": {},
   "outputs": [],
   "source": [
    "# load top 12 states with most remote work twitters, date of stay at home order and whether enforced order\n",
    "dfs = pd.read_excel('states stay at home order timeline.xlsx', engine='openpyxl')\n",
    "# filter twiteers based on 12 states\n",
    "data = df[df['states_abbrev'].isin(dfs['states_abbrev'])]\n",
    "df2 = []\n",
    "for x in dfs.index:\n",
    "    df2.append(data.loc[data['states_abbrev'] == dfs['states_abbrev'][x]])    "
   ]
  },
  {
   "cell_type": "code",
   "execution_count": 44,
   "id": "6f1d9a9d",
   "metadata": {},
   "outputs": [],
   "source": [
    "# generate new dataframe\n",
    "df1 = pd.concat(df2)\n",
    "df1 = df1.reset_index(drop = True)"
   ]
  },
  {
   "cell_type": "code",
   "execution_count": 45,
   "id": "daefc4f4",
   "metadata": {},
   "outputs": [],
   "source": [
    "# map stay at home order date\n",
    "start_dict = dict(zip(dfs['states_abbrev'], dfs['start']))\n",
    "end_dict = dict(zip(dfs['states_abbrev'], dfs['end']))\n",
    "df1['start'] = df1['states_abbrev'].map(start_dict)\n",
    "df1['end'] = df1['states_abbrev'].map(end_dict)"
   ]
  },
  {
   "cell_type": "code",
   "execution_count": 46,
   "id": "b94f52da",
   "metadata": {},
   "outputs": [
    {
     "name": "stderr",
     "output_type": "stream",
     "text": [
      "/var/folders/yn/83gzh79s0dv70yn_zgdzgg7m0000gn/T/ipykernel_14272/439337444.py:2: FutureWarning: Comparison of Timestamp with datetime.date is deprecated in order to match the standard library behavior.  In a future version these will be considered non-comparable.Use 'ts == pd.Timestamp(date)' or 'ts.date() == date' instead.\n",
      "  df1['lockdown'] = df1.apply(lambda x: 1 if (x['start'] < x['date'])&(x['end']>x['date']) else 0, axis =1 )\n"
     ]
    }
   ],
   "source": [
    "# map enforced or mild stay at home order\n",
    "df1['lockdown'] = df1.apply(lambda x: 1 if (x['start'] < x['date'])&(x['end']>x['date']) else 0, axis =1 )\n",
    "from IPython.core.interactiveshell import InteractiveShell\n",
    "InteractiveShell.ast_node_interactivity = \"all\"\n",
    "stay_at_home = dict(zip(dfs['states_abbrev'], dfs['Enforced_stay_at_home_order']))\n",
    "df1['enforced_order'] = df1['states_abbrev'].map(stay_at_home)\n",
    "df1['enforced_order'] = df1['enforced_order'].apply(lambda x: 1 if x == 'Y' else 0)"
   ]
  },
  {
   "cell_type": "code",
   "execution_count": 101,
   "id": "8e224517",
   "metadata": {},
   "outputs": [],
   "source": [
    "# create year and month column for data aggragation\n",
    "import time\n",
    "import datetime\n",
    "df1['year'] = df1['created_at'].apply(lambda x: x.year)\n",
    "df1['month'] = df1['created_at'].apply(lambda x: x.month)"
   ]
  },
  {
   "cell_type": "code",
   "execution_count": 129,
   "id": "9a3cca25",
   "metadata": {
    "scrolled": true
   },
   "outputs": [],
   "source": [
    "# filter two states\n",
    "df_ca = df1[df1['states_abbrev'] == 'CA'].drop(columns = ['Unnamed: 0', 'index'])\n",
    "df_ca['tweets'] = 1\n",
    "df_tx = df1[df1['states_abbrev'] == 'TX'].drop(columns = ['Unnamed: 0', 'index'])\n",
    "df_tx['tweets'] = 1"
   ]
  },
  {
   "cell_type": "code",
   "execution_count": 130,
   "id": "f2ef2b36",
   "metadata": {},
   "outputs": [],
   "source": [
    "# aggregate data in month\n",
    "df_ca['date'] = pd.to_datetime(df_ca['date'], errors='coerce')\n",
    "per = df_ca.date.dt.to_period(\"M\")\n",
    "df_agg_ca = df_ca.groupby(per).sum()\n",
    "df_agg_ca['date'] = df_agg_ca.index\n",
    "df_agg_ca['state'] = 'CA'\n",
    "df_agg_ca = df_agg_ca.reset_index(drop = True).drop(columns = ['year', 'month', 'author_id', 'author_followers', 'author_tweets'])\n",
    "df_tx['date'] = pd.to_datetime(df_tx['date'], errors='coerce')\n",
    "per = df_tx.date.dt.to_period(\"M\")\n",
    "df_agg_tx = df_tx.groupby(per).sum()\n",
    "df_agg_tx['date'] = df_agg_tx.index\n",
    "df_agg_tx['state'] = 'TX'\n",
    "df_agg_tx = df_agg_tx.reset_index(drop = True).drop(columns = ['year', 'month', 'author_id', 'author_followers', 'author_tweets'])"
   ]
  },
  {
   "cell_type": "code",
   "execution_count": 131,
   "id": "da84e7d3",
   "metadata": {},
   "outputs": [
    {
     "data": {
      "text/html": [
       "<div>\n",
       "<style scoped>\n",
       "    .dataframe tbody tr th:only-of-type {\n",
       "        vertical-align: middle;\n",
       "    }\n",
       "\n",
       "    .dataframe tbody tr th {\n",
       "        vertical-align: top;\n",
       "    }\n",
       "\n",
       "    .dataframe thead th {\n",
       "        text-align: right;\n",
       "    }\n",
       "</style>\n",
       "<table border=\"1\" class=\"dataframe\">\n",
       "  <thead>\n",
       "    <tr style=\"text-align: right;\">\n",
       "      <th></th>\n",
       "      <th>index</th>\n",
       "      <th>retweets</th>\n",
       "      <th>replies</th>\n",
       "      <th>likes</th>\n",
       "      <th>quote_count</th>\n",
       "      <th>lockdown</th>\n",
       "      <th>enforced_order</th>\n",
       "      <th>tweets</th>\n",
       "      <th>date</th>\n",
       "      <th>state</th>\n",
       "    </tr>\n",
       "  </thead>\n",
       "  <tbody>\n",
       "    <tr>\n",
       "      <th>0</th>\n",
       "      <td>0</td>\n",
       "      <td>100.0</td>\n",
       "      <td>9.0</td>\n",
       "      <td>274.0</td>\n",
       "      <td>12.0</td>\n",
       "      <td>N</td>\n",
       "      <td>Y</td>\n",
       "      <td>27</td>\n",
       "      <td>2019-03</td>\n",
       "      <td>CA</td>\n",
       "    </tr>\n",
       "    <tr>\n",
       "      <th>1</th>\n",
       "      <td>1</td>\n",
       "      <td>5.0</td>\n",
       "      <td>2.0</td>\n",
       "      <td>50.0</td>\n",
       "      <td>0.0</td>\n",
       "      <td>N</td>\n",
       "      <td>Y</td>\n",
       "      <td>29</td>\n",
       "      <td>2019-04</td>\n",
       "      <td>CA</td>\n",
       "    </tr>\n",
       "    <tr>\n",
       "      <th>2</th>\n",
       "      <td>2</td>\n",
       "      <td>4.0</td>\n",
       "      <td>2.0</td>\n",
       "      <td>27.0</td>\n",
       "      <td>0.0</td>\n",
       "      <td>N</td>\n",
       "      <td>Y</td>\n",
       "      <td>23</td>\n",
       "      <td>2019-05</td>\n",
       "      <td>CA</td>\n",
       "    </tr>\n",
       "    <tr>\n",
       "      <th>3</th>\n",
       "      <td>3</td>\n",
       "      <td>3.0</td>\n",
       "      <td>0.0</td>\n",
       "      <td>12.0</td>\n",
       "      <td>0.0</td>\n",
       "      <td>N</td>\n",
       "      <td>Y</td>\n",
       "      <td>13</td>\n",
       "      <td>2019-06</td>\n",
       "      <td>CA</td>\n",
       "    </tr>\n",
       "    <tr>\n",
       "      <th>4</th>\n",
       "      <td>4</td>\n",
       "      <td>10.0</td>\n",
       "      <td>14.0</td>\n",
       "      <td>102.0</td>\n",
       "      <td>2.0</td>\n",
       "      <td>N</td>\n",
       "      <td>Y</td>\n",
       "      <td>29</td>\n",
       "      <td>2019-07</td>\n",
       "      <td>CA</td>\n",
       "    </tr>\n",
       "    <tr>\n",
       "      <th>...</th>\n",
       "      <td>...</td>\n",
       "      <td>...</td>\n",
       "      <td>...</td>\n",
       "      <td>...</td>\n",
       "      <td>...</td>\n",
       "      <td>...</td>\n",
       "      <td>...</td>\n",
       "      <td>...</td>\n",
       "      <td>...</td>\n",
       "      <td>...</td>\n",
       "    </tr>\n",
       "    <tr>\n",
       "      <th>79</th>\n",
       "      <td>37</td>\n",
       "      <td>39.0</td>\n",
       "      <td>9.0</td>\n",
       "      <td>208.0</td>\n",
       "      <td>3.0</td>\n",
       "      <td>N</td>\n",
       "      <td>N</td>\n",
       "      <td>21</td>\n",
       "      <td>2022-06</td>\n",
       "      <td>TX</td>\n",
       "    </tr>\n",
       "    <tr>\n",
       "      <th>80</th>\n",
       "      <td>38</td>\n",
       "      <td>27.0</td>\n",
       "      <td>2.0</td>\n",
       "      <td>49.0</td>\n",
       "      <td>0.0</td>\n",
       "      <td>N</td>\n",
       "      <td>N</td>\n",
       "      <td>15</td>\n",
       "      <td>2022-07</td>\n",
       "      <td>TX</td>\n",
       "    </tr>\n",
       "    <tr>\n",
       "      <th>81</th>\n",
       "      <td>39</td>\n",
       "      <td>11.0</td>\n",
       "      <td>8.0</td>\n",
       "      <td>96.0</td>\n",
       "      <td>0.0</td>\n",
       "      <td>N</td>\n",
       "      <td>N</td>\n",
       "      <td>18</td>\n",
       "      <td>2022-08</td>\n",
       "      <td>TX</td>\n",
       "    </tr>\n",
       "    <tr>\n",
       "      <th>82</th>\n",
       "      <td>40</td>\n",
       "      <td>7.0</td>\n",
       "      <td>4.0</td>\n",
       "      <td>59.0</td>\n",
       "      <td>0.0</td>\n",
       "      <td>N</td>\n",
       "      <td>N</td>\n",
       "      <td>10</td>\n",
       "      <td>2022-09</td>\n",
       "      <td>TX</td>\n",
       "    </tr>\n",
       "    <tr>\n",
       "      <th>83</th>\n",
       "      <td>41</td>\n",
       "      <td>1.0</td>\n",
       "      <td>0.0</td>\n",
       "      <td>0.0</td>\n",
       "      <td>0.0</td>\n",
       "      <td>N</td>\n",
       "      <td>N</td>\n",
       "      <td>2</td>\n",
       "      <td>2022-10</td>\n",
       "      <td>TX</td>\n",
       "    </tr>\n",
       "  </tbody>\n",
       "</table>\n",
       "<p>84 rows × 10 columns</p>\n",
       "</div>"
      ],
      "text/plain": [
       "    index  retweets  replies  likes  quote_count lockdown enforced_order  \\\n",
       "0       0     100.0      9.0  274.0         12.0        N              Y   \n",
       "1       1       5.0      2.0   50.0          0.0        N              Y   \n",
       "2       2       4.0      2.0   27.0          0.0        N              Y   \n",
       "3       3       3.0      0.0   12.0          0.0        N              Y   \n",
       "4       4      10.0     14.0  102.0          2.0        N              Y   \n",
       "..    ...       ...      ...    ...          ...      ...            ...   \n",
       "79     37      39.0      9.0  208.0          3.0        N              N   \n",
       "80     38      27.0      2.0   49.0          0.0        N              N   \n",
       "81     39      11.0      8.0   96.0          0.0        N              N   \n",
       "82     40       7.0      4.0   59.0          0.0        N              N   \n",
       "83     41       1.0      0.0    0.0          0.0        N              N   \n",
       "\n",
       "    tweets     date state  \n",
       "0       27  2019-03    CA  \n",
       "1       29  2019-04    CA  \n",
       "2       23  2019-05    CA  \n",
       "3       13  2019-06    CA  \n",
       "4       29  2019-07    CA  \n",
       "..     ...      ...   ...  \n",
       "79      21  2022-06    TX  \n",
       "80      15  2022-07    TX  \n",
       "81      18  2022-08    TX  \n",
       "82      10  2022-09    TX  \n",
       "83       2  2022-10    TX  \n",
       "\n",
       "[84 rows x 10 columns]"
      ]
     },
     "execution_count": 131,
     "metadata": {},
     "output_type": "execute_result"
    }
   ],
   "source": [
    "# concat aggregate data\n",
    "frames = [df_agg_ca, df_agg_tx]\n",
    "result = pd.concat(frames).reset_index()\n",
    "result['lockdown'] = result['lockdown'].apply(lambda x: 'Y' if x >0 else 'N')\n",
    "result['enforced_order'] = result['enforced_order'].apply(lambda x: 'Y' if x >0 else 'N')\n",
    "result"
   ]
  },
  {
   "cell_type": "code",
   "execution_count": 132,
   "id": "9f730afb",
   "metadata": {},
   "outputs": [
    {
     "data": {
      "text/plain": [
       "<Figure size 1440x360 with 0 Axes>"
      ]
     },
     "execution_count": 132,
     "metadata": {},
     "output_type": "execute_result"
    },
    {
     "data": {
      "text/plain": [
       "<AxesSubplot:xlabel='date', ylabel='tweets'>"
      ]
     },
     "execution_count": 132,
     "metadata": {},
     "output_type": "execute_result"
    },
    {
     "data": {
      "text/plain": [
       "Text(0.5, 1.0, 'Monthly remote working tweet by state')"
      ]
     },
     "execution_count": 132,
     "metadata": {},
     "output_type": "execute_result"
    },
    {
     "data": {
      "image/png": "[encoded data removed]",
      "text/plain": [
       "<Figure size 1440x360 with 1 Axes>"
      ]
     },
     "metadata": {
      "needs_background": "light"
     },
     "output_type": "display_data"
    }
   ],
   "source": [
    "plt.figure(figsize=(20,5))\n",
    "sns.pointplot(x='date',y='tweets',data=result, hue='state')\n",
    "plt.tick_params(axis='x', labelrotation = 45)\n",
    "plt.title(\"Monthly remote working tweet by state\")"
   ]
  },
  {
   "cell_type": "markdown",
   "id": "09ca298e",
   "metadata": {},
   "source": [
    "Before lockdown, CA and TX has similar number of tweets for remote working, but after the stay at home order announced, CA's tweets related to remote work quickly went over TX, indicating people may be affected more by enforced stay at home order than mild shelter in place order. Because people are forced to work remote, they perceive this as a big change in their life, and therefore are more likely to share experience."
   ]
  },
  {
   "cell_type": "code",
   "execution_count": 140,
   "id": "43f6d04c",
   "metadata": {},
   "outputs": [
    {
     "data": {
      "text/plain": [
       "<seaborn.axisgrid.FacetGrid at 0x7fbb940175b0>"
      ]
     },
     "execution_count": 140,
     "metadata": {},
     "output_type": "execute_result"
    },
    {
     "data": {
      "image/png": "[encoded data removed]",
      "text/plain": [
       "<Figure size 415x360 with 1 Axes>"
      ]
     },
     "metadata": {
      "needs_background": "light"
     },
     "output_type": "display_data"
    }
   ],
   "source": [
    "sns.catplot(data=result, x=\"enforced_order\", y=\"tweets\", hue=\"lockdown\", kind=\"swarm\")\n",
    "plt.show()"
   ]
  },
  {
   "cell_type": "markdown",
   "id": "7f039b07",
   "metadata": {},
   "source": [
    "This graph shows clear that number of tweets under enforced stay at home order is higher than mild shelter in place order"
   ]
  },
  {
   "cell_type": "code",
   "execution_count": 139,
   "id": "bf339e55",
   "metadata": {},
   "outputs": [
    {
     "data": {
      "text/plain": [
       "<seaborn.axisgrid.FacetGrid at 0x7fbb9400b4c0>"
      ]
     },
     "execution_count": 139,
     "metadata": {},
     "output_type": "execute_result"
    },
    {
     "data": {
      "image/png": "[encoded data removed]",
      "text/plain": [
       "<Figure size 409.75x360 with 1 Axes>"
      ]
     },
     "metadata": {
      "needs_background": "light"
     },
     "output_type": "display_data"
    }
   ],
   "source": [
    "sns.catplot(data=result, x=\"lockdown\", y=\"tweets\", hue=\"state\", kind=\"bar\")"
   ]
  },
  {
   "cell_type": "markdown",
   "id": "97b159d8",
   "metadata": {},
   "source": [
    "Before lockdown, the number of tweets are similar in CA and TX, while CA's number of tweets is much higher than TX's during lockdown, suggesting a potential variable (enforced stay at home order) may induce this change. Although we hypothese that enforced stay at home order may placy a role here, there are also other possibilities. For example, lots of technology company located in CA, workers in CA may be more eligible to switch to remote work and start tweeting."
   ]
  },
  {
   "cell_type": "markdown",
   "id": "419d353b",
   "metadata": {},
   "source": [
    "My next plan is to implement structural topic modeling to explore more content and hopefully find some labelled emotional dataset to establish emotional classification model."
   ]
  }
 ],
 "metadata": {
  "kernelspec": {
   "display_name": "Python 3 (ipykernel)",
   "language": "python",
   "name": "python3"
  },
  "language_info": {
   "codemirror_mode": {
    "name": "ipython",
    "version": 3
   },
   "file_extension": ".py",
   "mimetype": "text/x-python",
   "name": "python",
   "nbconvert_exporter": "python",
   "pygments_lexer": "ipython3",
   "version": "3.9.7"
  }
 },
 "nbformat": 4,
 "nbformat_minor": 5
}
